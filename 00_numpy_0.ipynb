{
 "cells": [
  {
   "cell_type": "code",
   "execution_count": 1,
   "id": "ffa7dba6",
   "metadata": {},
   "outputs": [],
   "source": [
    "import numpy as np\n",
    "from IPython.display import Image"
   ]
  },
  {
   "cell_type": "code",
   "execution_count": 2,
   "id": "c72e8902",
   "metadata": {},
   "outputs": [
    {
     "name": "stdout",
     "output_type": "stream",
     "text": [
      "[ 0  1  2  3  4  5  6  7  8  9 10 11 12 13 14 15 16 17 18 19 20 21 22 23\n",
      " 24 25 26 27 28 29 30 31]\n",
      "<class 'numpy.ndarray'>\n",
      "(32,)\n"
     ]
    }
   ],
   "source": [
    "arr = np.arange(0, 32)\n",
    "print(arr)\n",
    "print(type(arr))\n",
    "print(arr.shape) # 데이터 속성 (32,) 이렇게 나오는데 이게 1차원 이라는 뜻"
   ]
  },
  {
   "cell_type": "code",
   "execution_count": 3,
   "id": "c2b21139",
   "metadata": {},
   "outputs": [
    {
     "name": "stdout",
     "output_type": "stream",
     "text": [
      "[[[ 0  1  2  3]\n",
      "  [ 4  5  6  7]]\n",
      "\n",
      " [[ 8  9 10 11]\n",
      "  [12 13 14 15]]\n",
      "\n",
      " [[16 17 18 19]\n",
      "  [20 21 22 23]]\n",
      "\n",
      " [[24 25 26 27]\n",
      "  [28 29 30 31]]]\n",
      "[[[ 0  1  2  3  4  5  6  7]]\n",
      "\n",
      " [[ 8  9 10 11 12 13 14 15]]\n",
      "\n",
      " [[16 17 18 19 20 21 22 23]]\n",
      "\n",
      " [[24 25 26 27 28 29 30 31]]]\n",
      "(4, 2, 4)\n"
     ]
    }
   ],
   "source": [
    "# reshape() 함수는 numpy 배열의 차원을 변경한다.\n",
    "v = arr.reshape(4,2,4) # reshape(면,행,열) # 근데 여기서 면행열의 곱은 그 arr의 개수와 같아야 한다.\n",
    "t = arr.reshape(4,1,8)\n",
    "print(v)\n",
    "print(t)\n",
    "print(v.shape)"
   ]
  },
  {
   "cell_type": "markdown",
   "id": "881fa242",
   "metadata": {},
   "source": [
    "numpy의 sum() 함수의 작동방식"
   ]
  },
  {
   "cell_type": "code",
   "execution_count": 4,
   "id": "a42e753e",
   "metadata": {},
   "outputs": [
    {
     "name": "stdout",
     "output_type": "stream",
     "text": [
      "3\n"
     ]
    }
   ],
   "source": [
    "# sum() 함수의 axis 속성의 기본값은 'None'(축이 없다.)이고, axis는 대상 데이터의 차원보다 작은 값을 설정한다.\n",
    "# 위의 예제 데이터의 차원이 3이기 때문에 axis 속성은 2까지 지정할 수 있다.\n",
    "print(v.ndim) # ndim: numpy 배열의 차원(Dimension)을 얻어온다."
   ]
  },
  {
   "cell_type": "code",
   "execution_count": 5,
   "id": "ece3fc7e",
   "metadata": {},
   "outputs": [
    {
     "name": "stdout",
     "output_type": "stream",
     "text": [
      "(4, 2, 4)\n",
      "496\n",
      "496\n"
     ]
    }
   ],
   "source": [
    "# axis = None\n",
    "# axis를 기본값으로 실행하면 대상 데이터의 모든 요소의 합계를 계산해 리턴한다.\n",
    "# 대상 데이터에 포함된 모든 요소를 단순하게 합산하는 연산이 실행 된다.\n",
    "print(v.shape)\n",
    "print(v.sum())\n",
    "print(v.sum(axis=None))"
   ]
  },
  {
   "cell_type": "code",
   "execution_count": 6,
   "id": "08255a53",
   "metadata": {},
   "outputs": [
    {
     "name": "stdout",
     "output_type": "stream",
     "text": [
      "[[48 52 56 60]\n",
      " [64 68 72 76]]\n",
      "(2, 4)\n",
      "2\n"
     ]
    }
   ],
   "source": [
    "# axis=0\n",
    "# axis=0는 x축을 기준으로 계산한 합계를 리턴한다.\n",
    "# shape이 (4,2,4)인 데이터의 x축을 기준으로 합계를 계산하고 결과 shape은 면이 제거되고 (2,4)이 리턴된다.\n",
    "# 위에서 쭉 누른 느낌\n",
    "result = v.sum(axis=0)\n",
    "print(result)\n",
    "print(result.shape)\n",
    "print(result.ndim)"
   ]
  },
  {
   "cell_type": "code",
   "execution_count": 8,
   "id": "1d8a46fa",
   "metadata": {},
   "outputs": [],
   "source": [
    "# axis=0은 가장 외곽의 괄호를 제거하는 이미지를 생각하면 된다.\n",
    "# 아래 그림 처럼(영상을 보던 선생님 코드를 가져오던) 가장 외곽에"
   ]
  },
  {
   "cell_type": "code",
   "execution_count": 9,
   "id": "10047d7d",
   "metadata": {},
   "outputs": [
    {
     "name": "stdout",
     "output_type": "stream",
     "text": [
      "[[ 4  6  8 10]\n",
      " [20 22 24 26]\n",
      " [36 38 40 42]\n",
      " [52 54 56 58]]\n",
      "(4, 4)\n",
      "2\n"
     ]
    }
   ],
   "source": [
    "# axis = 1\n",
    "# axis = 1은 y축을 기준으로 계산한 합계를 리턴 한다.\n",
    "# shape이 (4,2,4)인 데이터를 y축을 기준으로 합계를 계산하고 결과 shape은 행이 제거되고 (4,4)가 리턴 된다.\n",
    "result = v.sum(axis=1)\n",
    "print(result)\n",
    "print(result.shape)\n",
    "print(result.ndim)"
   ]
  },
  {
   "cell_type": "code",
   "execution_count": null,
   "id": "705bdd52",
   "metadata": {},
   "outputs": [],
   "source": [
    "# axis = 1 은 가장 안쪽에서 두번째 (4,2,4)중에서 순서대로 0 ,1, 2 라고 생각하면 된다.\n",
    "# 가장 외곽의 두번째 괄호를 제거하고 각 행의 데이터는 위치별로 합계를 계산한다.\n",
    "# 그런데 이거 이해 하려면 녹화영상을 꼭 한번 더 봐라\n",
    "# 이게 그림을 보면 알겠지만\n",
    "# 3차 그래프를 그릴때 x축 y축 z축 방향을 화살표로 그리잖아\n",
    "# 그 방향대로 겹쳐진다고 생각하면 좀 이해 될듯"
   ]
  },
  {
   "cell_type": "code",
   "execution_count": 10,
   "id": "a3fca537",
   "metadata": {},
   "outputs": [
    {
     "name": "stdout",
     "output_type": "stream",
     "text": [
      "[[  6  22]\n",
      " [ 38  54]\n",
      " [ 70  86]\n",
      " [102 118]]\n",
      "(4, 2)\n",
      "2\n"
     ]
    }
   ],
   "source": [
    "# axis=2\n",
    "# axis=2는 z축을 기준으로 계산한 합계를 리턴한다.\n",
    "# shape이 (4,2,4)인 데이터를 z축을 기준으로 합계를 계산하고 결과 shape은 열이 제거되고 (4,2)가 리턴된다.\n",
    "# 가장 안쪽 괄호를 제거하는 이미지를 생각하면 된다.\n",
    "result = v.sum(axis=2)\n",
    "print(result)\n",
    "print(result.shape)\n",
    "print(result.ndim)"
   ]
  },
  {
   "cell_type": "code",
   "execution_count": null,
   "id": "3a9f0132",
   "metadata": {},
   "outputs": [],
   "source": []
  },
  {
   "cell_type": "code",
   "execution_count": null,
   "id": "bcd84206",
   "metadata": {},
   "outputs": [],
   "source": []
  }
 ],
 "metadata": {
  "kernelspec": {
   "display_name": "Python 3",
   "language": "python",
   "name": "python3"
  },
  "language_info": {
   "codemirror_mode": {
    "name": "ipython",
    "version": 3
   },
   "file_extension": ".py",
   "mimetype": "text/x-python",
   "name": "python",
   "nbconvert_exporter": "python",
   "pygments_lexer": "ipython3",
   "version": "3.6.8"
  }
 },
 "nbformat": 4,
 "nbformat_minor": 5
}
