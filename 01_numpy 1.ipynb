{
 "cells": [
  {
   "cell_type": "code",
   "execution_count": 1,
   "id": "a4ad162c",
   "metadata": {},
   "outputs": [],
   "source": [
    "# jupyter notebook에서 경고 메시지 숨기기\n",
    "# jupyter notebook을 사용하다 보면 향후 버전이 올라갈 때 변경사항을 알려주는 \n",
    "# 경고 메시지가 출력 되는데 매우 거슬린다.\n",
    "# 이럴 때 \n",
    "# ctrl + enter // shift + enter 하면 실행\n",
    "import warnings\n",
    "warnings.filterwarnings('ignore') # 경고 메시지를 무시하고 숨긴다.\n",
    "# warnings.filterwarnings('ignore') 경고 메시지 다시 표시"
   ]
  },
  {
   "cell_type": "markdown",
   "id": "dcd7f653",
   "metadata": {
    "scrolled": false
   },
   "source": [
    "그림 집어 넣는 법.  \n",
    "from IPython.dispaly import Image  \n",
    "#Image('. # 주소', width = '크기')    "
   ]
  },
  {
   "cell_type": "markdown",
   "id": "f150c814",
   "metadata": {},
   "source": [
    "// markdown -> M 누르면 됨.  \n",
    "numpy는 행렬 연산을 위한 핵심 라이브러리이다.  \n",
    "numpy는 대규모 다차원 배열과 행렬 연산에 필요한 다양한 함수를 제공하고, 특히 메모리  버퍼에 배열 데이터를 저장하고 처리하는 효율적인 인터페이스를 제공한다.  \n",
    "파이썬 list 객체를 개선한 numpy의 ndarray 객체를 사용하면 더 많은 데이터를 더 빠르게   처리할 수 있다.  \n",
    "\n",
    "numpy의 특징  \n",
    "&nbsp;&nbsp;1. 강력한 n차원 배열 객체  \n",
    "&nbsp;&nbsp;2. 정교한 브로드캐스팅(다대일 연산) 가능  \n",
    "&nbsp;&nbsp;3. c/c++ 및 fortran 코드 통함 도구  \n",
    "&nbsp;&nbsp;4. 유연한 선형 대 수학, 푸리에 변환 및 난수 기능"
   ]
  },
  {
   "cell_type": "code",
   "execution_count": 2,
   "id": "c753c517",
   "metadata": {},
   "outputs": [
    {
     "name": "stdout",
     "output_type": "stream",
     "text": [
      "Requirement already satisfied: numpy in c:\\python\\lib\\site-packages (1.19.5)\n"
     ]
    }
   ],
   "source": [
    "# jupyter notebook에서 command 창으로 나가지 않고 외부 라이브러리를 설치 할 수 있다. => pip 앞에 '!'를 붙여서 실행하면 된다.\n",
    "# !pip install numpy\n",
    "!pip install numpy"
   ]
  },
  {
   "cell_type": "code",
   "execution_count": 3,
   "id": "773d5c3b",
   "metadata": {},
   "outputs": [
    {
     "name": "stdout",
     "output_type": "stream",
     "text": [
      "1.19.5\n"
     ]
    }
   ],
   "source": [
    "import numpy as np\n",
    "print(np.__version__)\n"
   ]
  },
  {
   "cell_type": "code",
   "execution_count": 4,
   "id": "e48ccb20",
   "metadata": {},
   "outputs": [],
   "source": [
    "# 데이터 타입\n",
    "# numpy는 다음과 같은 데이터 타입을 지원하고 배열을 생성할 때 dtype 속성으로 아래와 같은 데이터 타입을 지정할 수 있다.\n",
    "# np.int64 : 64비트 정수(고정 소수점) 타입\n",
    "# np.float32 : 32비트 실수(부동 소수점, 유정 소수점) 타입\n",
    "# np.complex128 : 복소수(128비트 float) 타입\n",
    "# np.bool : 불린(논리값, True, False) 타입\n",
    "# np.object : 객체 타입\n",
    "# np.string_ : 문자열 타입\n",
    "# np.unicode : 유니코드 타입"
   ]
  },
  {
   "cell_type": "code",
   "execution_count": 5,
   "id": "37ee9b6e",
   "metadata": {},
   "outputs": [],
   "source": [
    "# numpy는 다차원 배열을 지원하고 numpy 배열의 구조는 shape으로 표현한다.\n",
    "# shape은 배열 구조를 튜플 자료형을 사용해서 정의한다.\n",
    "# 예를 들면 28 * 28(이미지 한장의 픽셀 수) 컬러사진은 폭이 28, 높이가 28, 각 픽셀은 3개의\n",
    "# 채널(RGB)로 구성된 구조를 가진다. 따라서 컬러 사진의\n",
    "# 데이터 구조는 shape(28,28,3)인 3차원 배열이 된다.\n",
    "# 다차원 배열은 입체적인 구조를 가지며 데이터 차원은 여러 갈래의 데이터 방향(axis)을 가진다.\n",
    "# 다차원 배열의 데이터 방향은 axis로 표현하고 면은 axis=0, 행은 axis=1, 열은 axis=2로 지정한다."
   ]
  },
  {
   "cell_type": "code",
   "execution_count": 6,
   "id": "43afe13d",
   "metadata": {},
   "outputs": [],
   "source": [
    "# numpy 배열 객체 정보 출력용으로 사용할 함수를 정의한다.\n",
    "def pprint(arr):\n",
    "    print('type: {}'.format(type(arr)))\n",
    "    print('shape: {}, dimension: {}, dtype: {}'.format(arr.shape,arr.ndim,arr.dtype))\n",
    "    print('numpy 배열에 저장된 데이터\\n',arr)"
   ]
  },
  {
   "cell_type": "markdown",
   "id": "3b6f9a7b",
   "metadata": {},
   "source": [
    "파이썬 list 객체로 numpy 배열을 생성할 수 있다.  \n",
    "인수로 list 객체와 데이터타입(dtype)을 입력해 numpy 배열을 생성하고 dtype을 생략할 경우 입력되는 list 객체의 타입으로 설정된다."
   ]
  },
  {
   "cell_type": "code",
   "execution_count": 7,
   "id": "4a8be94c",
   "metadata": {},
   "outputs": [
    {
     "name": "stdout",
     "output_type": "stream",
     "text": [
      "<class 'list'>\n",
      "type: <class 'numpy.ndarray'>\n",
      "shape: (3,), dimension: 1, dtype: int64\n",
      "numpy 배열에 저장된 데이터\n",
      " [1 2 3]\n"
     ]
    }
   ],
   "source": [
    "# 파이썬 1차원 list로 numpy 배열 만들기\n",
    "arr =[1,2,3]\n",
    "print(type(arr))\n",
    "# np.array() 함수는 인수로 list 객체를 넘겨받아 numpy 배열을 생성한다.\n",
    "a = np.array(arr,dtype=np.int64) # dtype 안넘겨주면 arr 배열의 타입으로 자동 저장된다.\n",
    "pprint(a)"
   ]
  },
  {
   "cell_type": "code",
   "execution_count": 8,
   "id": "cd2c656f",
   "metadata": {},
   "outputs": [
    {
     "name": "stdout",
     "output_type": "stream",
     "text": [
      "<class 'list'>\n",
      "type: <class 'numpy.ndarray'>\n",
      "shape: (3,), dimension: 1, dtype: float64\n",
      "numpy 배열에 저장된 데이터\n",
      " [1. 2. 3.]\n"
     ]
    }
   ],
   "source": [
    "# 파이썬 1차원 list로 numpy 배열 만들기\n",
    "arr =[1,2,3]\n",
    "print(type(arr))\n",
    "a = np.array(arr,dtype=float) # 꼭 np.float 하지 않아도 되지만 float int 이렇게 되면 기본값으로 자동으로 float64, int32 비트가 들어간다.\n",
    "pprint(a)"
   ]
  },
  {
   "cell_type": "code",
   "execution_count": 9,
   "id": "470de21a",
   "metadata": {},
   "outputs": [
    {
     "name": "stdout",
     "output_type": "stream",
     "text": [
      "<class 'list'>\n",
      "type: <class 'numpy.ndarray'>\n",
      "shape: (2, 3), dimension: 2, dtype: int32\n",
      "numpy 배열에 저장된 데이터\n",
      " [[1 2 3]\n",
      " [4 5 6]]\n"
     ]
    }
   ],
   "source": [
    "# 파이썬 2차원 list로 numpy 배열 만들기\n",
    "arr =[[1,2,3],[4,5,6]]\n",
    "# arr =[[1,2.,3],[4,5,6]] float 타입으로 바꾸는 방법중 하나인데, 2.이 있어서 나머지 전부 float타입으로 인식\n",
    "print(type(arr))\n",
    "a = np.array(arr,dtype=int)\n",
    "pprint(a)"
   ]
  },
  {
   "cell_type": "code",
   "execution_count": 10,
   "id": "1086b71a",
   "metadata": {},
   "outputs": [
    {
     "name": "stdout",
     "output_type": "stream",
     "text": [
      "<class 'list'>\n",
      "type: <class 'numpy.ndarray'>\n",
      "shape: (2, 2, 3), dimension: 3, dtype: int32\n",
      "numpy 배열에 저장된 데이터\n",
      " [[[ 1  2  3]\n",
      "  [ 4  5  6]]\n",
      "\n",
      " [[11 22 33]\n",
      "  [44 55 66]]]\n"
     ]
    }
   ],
   "source": [
    "# 파이썬 3차원 list로 numpy 배열 만들기\n",
    "arr=[[[1,2,3],[4,5,6]],[[11,22,33],[44,55,66]]]\n",
    "print(type(arr))\n",
    "a = np.array(arr)\n",
    "pprint(a)"
   ]
  },
  {
   "cell_type": "markdown",
   "id": "3a58ab0c",
   "metadata": {},
   "source": [
    "numpy는 원하는 shape으로 배열을 만들고 각 요소를 특정값으로 초기화 하는 함수를 제공한다."
   ]
  },
  {
   "cell_type": "code",
   "execution_count": 11,
   "id": "9a0e7741",
   "metadata": {},
   "outputs": [
    {
     "name": "stdout",
     "output_type": "stream",
     "text": [
      "type: <class 'numpy.ndarray'>\n",
      "shape: (3, 4), dimension: 2, dtype: int32\n",
      "numpy 배열에 저장된 데이터\n",
      " [[0 0 0 0]\n",
      " [0 0 0 0]\n",
      " [0 0 0 0]]\n"
     ]
    }
   ],
   "source": [
    "# np.zeros() 함수는 지정된 shape의 배열을 생성하고 모든 요소를 0으로 초기화시킨다.\n",
    "# np.zeros(shape,dtype,order) order='f' 라고 하면 열 우선 으로 채운다.\n",
    "# order => 다차원 데이터를 행 우선 방식(c/c++, java, python), 열 우선 방식(fortran)으로 메모리에 저장할지 여부를 결정한다.\n",
    "a= np.zeros(shape=(3,4),dtype=int) # dtype을 안적으면 디폴트 값이 나오는데 디폴트 값이 float64이다.\n",
    "pprint(a)"
   ]
  },
  {
   "cell_type": "code",
   "execution_count": 12,
   "id": "ef6c585c",
   "metadata": {},
   "outputs": [
    {
     "name": "stdout",
     "output_type": "stream",
     "text": [
      "type: <class 'numpy.ndarray'>\n",
      "shape: (3, 4), dimension: 2, dtype: int32\n",
      "numpy 배열에 저장된 데이터\n",
      " [[1 1 1 1]\n",
      " [1 1 1 1]\n",
      " [1 1 1 1]]\n"
     ]
    }
   ],
   "source": [
    "# np.ones() 함수는 지정된 shape의 배열을 생성하고 모든 요소를 1로 초기화시킨다.\n",
    "# np.ones(shape,dtype,order)\n",
    "# 나머지는 np.zeros 와 동일하다.\n",
    "a= np.ones(shape=(3,4),dtype=int)\n",
    "pprint(a)"
   ]
  },
  {
   "cell_type": "code",
   "execution_count": 13,
   "id": "586be888",
   "metadata": {},
   "outputs": [
    {
     "name": "stdout",
     "output_type": "stream",
     "text": [
      "type: <class 'numpy.ndarray'>\n",
      "shape: (3, 4), dimension: 2, dtype: int32\n",
      "numpy 배열에 저장된 데이터\n",
      " [[5 5 5 5]\n",
      " [5 5 5 5]\n",
      " [5 5 5 5]]\n"
     ]
    }
   ],
   "source": [
    "# np.full() 함수는 지정된 shape의 배열을 생성하고 모든 요소를 특정값(fill_value_으로 초기화시킨다.\n",
    "# np.full(shape,fill_value, dtype,order)\n",
    "a= np.full(shape=(3,4),fill_value=5) # 얘는 dtype의 디폴트 값이 fill_value 타입이다.\n",
    "pprint(a)"
   ]
  },
  {
   "cell_type": "code",
   "execution_count": 14,
   "id": "40f904b6",
   "metadata": {},
   "outputs": [
    {
     "name": "stdout",
     "output_type": "stream",
     "text": [
      "type: <class 'numpy.ndarray'>\n",
      "shape: (5, 5), dimension: 2, dtype: int32\n",
      "numpy 배열에 저장된 데이터\n",
      " [[1 0 0 0 0]\n",
      " [0 1 0 0 0]\n",
      " [0 0 1 0 0]\n",
      " [0 0 0 1 0]\n",
      " [0 0 0 0 1]]\n"
     ]
    }
   ],
   "source": [
    "# np.eye() 함수는 shape이 (n,n)인 단위행렬(대각선 요소만 1이고 나머지는 0인 행렬)을 생성한다.\n",
    "# np.eye(n)\n",
    "a=np.eye(5,dtype=int)\n",
    "pprint(a)"
   ]
  },
  {
   "cell_type": "code",
   "execution_count": 15,
   "id": "337fc1c5",
   "metadata": {},
   "outputs": [
    {
     "name": "stdout",
     "output_type": "stream",
     "text": [
      "type: <class 'numpy.ndarray'>\n",
      "shape: (3, 4), dimension: 2, dtype: float64\n",
      "numpy 배열에 저장된 데이터\n",
      " [[0. 0. 0. 0.]\n",
      " [0. 0. 0. 0.]\n",
      " [0. 0. 0. 0.]]\n"
     ]
    }
   ],
   "source": [
    "# np.empty() 함수는 지정된 shape의 빈 배열을 만든다. => 초기화가 되어있지 않은 상태이다 => 쓰레기가 저장되어 있다. e=> 프로그램에서 10을 의미 e+11은 10^11승이다.\n",
    "# np.empty(shape, dtype, order) 이긴 하지만 어차피 dtype, order 의미가 없다 쓰레기 값이 들어있으므로  \n",
    "a=np.empty(shape=(3,4))\n",
    "pprint(a)"
   ]
  },
  {
   "cell_type": "code",
   "execution_count": 16,
   "id": "a66ba8a5",
   "metadata": {},
   "outputs": [
    {
     "name": "stdout",
     "output_type": "stream",
     "text": [
      "type: <class 'numpy.ndarray'>\n",
      "shape: (2, 3), dimension: 2, dtype: int32\n",
      "numpy 배열에 저장된 데이터\n",
      " [[1 2 3]\n",
      " [4 5 6]]\n",
      "type: <class 'numpy.ndarray'>\n",
      "shape: (2, 3), dimension: 2, dtype: int32\n",
      "numpy 배열에 저장된 데이터\n",
      " [[0 0 0]\n",
      " [0 0 0]]\n",
      "type: <class 'numpy.ndarray'>\n",
      "shape: (2, 3), dimension: 2, dtype: int32\n",
      "numpy 배열에 저장된 데이터\n",
      " [[1 1 1]\n",
      " [1 1 1]]\n",
      "type: <class 'numpy.ndarray'>\n",
      "shape: (2, 3), dimension: 2, dtype: int32\n",
      "numpy 배열에 저장된 데이터\n",
      " [[777 777 777]\n",
      " [777 777 777]]\n",
      "type: <class 'numpy.ndarray'>\n",
      "shape: (2, 3), dimension: 2, dtype: int32\n",
      "numpy 배열에 저장된 데이터\n",
      " [[1174524528        382          0]\n",
      " [         0          1    8653668]]\n"
     ]
    }
   ],
   "source": [
    "# like 함수\n",
    "# numpy는 인수로 지정된 배열과 shape이 같은 배열을 만드는 *_like() 함수를 제공한다. (*자리에는 아무거나 적어도 된다는 뜻이다.)\n",
    "# np.zeros_like(), np.ones_like(), np.full_like(), np.empty_like() 이렇게 되어있다.\n",
    "a= np.array([[1,2,3],[4,5,6]])\n",
    "pprint(a)\n",
    "b = np.zeros_like(a) # 안에있는 데이터를 복사해 오는게 아니라 몇행 몇열인지 복사해오고 나머지는 전부 0으로 채운다.\n",
    "pprint(b)\n",
    "c = np.ones_like(a) # 안에있는 데이터를 복사해 오는게 아니라 몇행 몇열인지 복사해오고 나머지는 전부 1으로 채운다.\n",
    "pprint(c)\n",
    "d = np.full_like(a,777) # 안에있는 데이터를 복사해 오는게 아니라 몇행 몇열인지 복사해오고 나머지는 전부 777으로 채운다.\n",
    "pprint(d)\n",
    "e = np.empty_like(a) # 안에있는 데이터를 복사해 오는게 아니라 몇행 몇열인지 복사해오고 나머지는 전부 777으로 채운다.\n",
    "pprint(e)"
   ]
  },
  {
   "cell_type": "markdown",
   "id": "9aa77f45",
   "metadata": {},
   "source": [
    "데이터 생성 함수"
   ]
  },
  {
   "cell_type": "code",
   "execution_count": 17,
   "id": "dedb111b",
   "metadata": {},
   "outputs": [],
   "source": [
    "# numpy는 주어진 조건으로 데이터를 생성한 후 배열을 만드는 데이터 생성함수를 제공한다.\n",
    "# np.linspace(), np.arange(), np.logspace()\n",
    "# %matplotlib line\n",
    "import matplotlib.pyplot as plt"
   ]
  },
  {
   "cell_type": "code",
   "execution_count": 28,
   "id": "987c44a4",
   "metadata": {},
   "outputs": [
    {
     "name": "stdout",
     "output_type": "stream",
     "text": [
      "[0.   0.25 0.5  0.75 1.  ]\n"
     ]
    },
    {
     "data": {
      "text/plain": [
       "[<matplotlib.lines.Line2D at 0x17e0ac815f8>]"
      ]
     },
     "execution_count": 28,
     "metadata": {},
     "output_type": "execute_result"
    },
    {
     "data": {
      "image/png": "[encoded data removed]",
      "text/plain": [
       "<Figure size 432x288 with 1 Axes>"
      ]
     },
     "metadata": {
      "needs_background": "light"
     },
     "output_type": "display_data"
    }
   ],
   "source": [
    "# np.linspace() 함수는 start부터 stop의 범위에서 num개를 균일한 간격으로 데이터를 생성해서 배열을 만든다.\n",
    "# np.linspace(start, end ,num)\n",
    "# 요소의 개수를 기준으로 균등 간격 배열을 생성한다.\n",
    "a= np.linspace(0,1,5) # 0~1사이를 5등분 해라\n",
    "print(a)\n",
    "# np.linspace() 함수 실행 결과 시각화\n",
    "plt.plot(a,'r*') # 그래프 색깔 'r,b,g,c,m,y,k'\n",
    "#plt.show()"
   ]
  },
  {
   "cell_type": "code",
   "execution_count": 32,
   "id": "ff0449df",
   "metadata": {},
   "outputs": [
    {
     "name": "stdout",
     "output_type": "stream",
     "text": [
      "[0 2 4 6 8]\n"
     ]
    },
    {
     "data": {
      "image/png": "[encoded data removed]",
      "text/plain": [
       "<Figure size 432x288 with 1 Axes>"
      ]
     },
     "metadata": {
      "needs_background": "light"
     },
     "output_type": "display_data"
    }
   ],
   "source": [
    "# np.arange() 함수는 start 부터 stop 미만까지 step 간격으로 데이터를 생성하고 배열을 만든다 (range랑 똑같음)\n",
    "# np.arange([start,]stop[,step],dtype)\n",
    "# np.linspace() 함수는 요소의 개수로 배열을 만들었지만, np.arange() 함수는 데이터 간격을 기준으로 균등한 간격의 배열을 생성한다.\n",
    "# start를 생략하면 0, step을 생략하면 1이 기본값으로 사용된다.\n",
    "a=np.arange(0,10,2)\n",
    "print(a)\n",
    "plt.plot(a,'g^')\n",
    "plt.show()"
   ]
  },
  {
   "cell_type": "code",
   "execution_count": 38,
   "id": "56831065",
   "metadata": {},
   "outputs": [
    {
     "name": "stdout",
     "output_type": "stream",
     "text": [
      "[   2.    4.    8.   16.   32.   64.  128.  256.  512. 1024.]\n"
     ]
    },
    {
     "data": {
      "image/png": "[encoded data removed]",
      "text/plain": [
       "<Figure size 432x288 with 1 Axes>"
      ]
     },
     "metadata": {
      "needs_background": "light"
     },
     "output_type": "display_data"
    }
   ],
   "source": [
    "# np.logspace() 함수는 로그 스케일로 지정된 범위(start부터 stop사이)에서 num개 만큼 균등 간격으로 데이터를 생성하고 배열을 만든다.\n",
    "# np.logspace(start, end, num, base)\n",
    "a=np.logspace(1,10,num=10, base=2) # 이거 base는 제곱값을 나타내는거 같은데? 2^(1~10)\n",
    "print(a)\n",
    "plt.plot(a)\n",
    "plt.show()"
   ]
  },
  {
   "cell_type": "markdown",
   "id": "d2de1090",
   "metadata": {},
   "source": [
    "난수 기반 배열 생성"
   ]
  },
  {
   "cell_type": "code",
   "execution_count": 39,
   "id": "3a2a55a1",
   "metadata": {},
   "outputs": [],
   "source": [
    "# numpy는 난수 발생 및 배열을 생성하는 random 모듈을 제공하고 다음과 같은 함수를 사용할 수 있다.\n",
    "# np.random.normal(), np.random.randn(), np.random.rand(), np.random.randint(), np.random.random()"
   ]
  },
  {
   "cell_type": "code",
   "execution_count": 47,
   "id": "32d0c1dd",
   "metadata": {},
   "outputs": [
    {
     "name": "stdout",
     "output_type": "stream",
     "text": [
      "type: <class 'numpy.ndarray'>\n",
      "shape: (10,), dimension: 1, dtype: float64\n",
      "numpy 배열에 저장된 데이터\n",
      " [-1.09214765 -0.86124011 -1.85233861  0.86765756  0.36278855 -0.72284048\n",
      "  1.25329333  0.63254156  0.88958889  2.80202045]\n",
      "type: <class 'numpy.ndarray'>\n",
      "shape: (2, 5), dimension: 2, dtype: float64\n",
      "numpy 배열에 저장된 데이터\n",
      " [[ 2.12347818 -1.51678119 -0.60054508 -0.51262323  1.25835597]\n",
      " [-0.07225558 -0.26468209  1.4259542  -0.63149689  1.17202265]]\n"
     ]
    },
    {
     "data": {
      "image/png": "[encoded data removed]",
      "text/plain": [
       "<Figure size 432x288 with 1 Axes>"
      ]
     },
     "metadata": {
      "needs_background": "light"
     },
     "output_type": "display_data"
    }
   ],
   "source": [
    "# np.random.normal() 함수는 정규 분포를 따르는 난수로 데이터를 생성하고 배열을 만든다.\n",
    "# np.random.normal(loc,scale,size)\n",
    "# loc => 정규 분포의 평균 , scale => 표준편차, size => 배열의 크기, 난수의 개수\n",
    "a=np.random.normal(0,1,10) # 평균이 0 이고 표준편차가 1 인 걸 표준정규분포라고 한다.\n",
    "pprint(a)\n",
    "b=np.random.normal(0,1,(2,5)) # 2차원\n",
    "pprint(b)\n",
    "plt.hist(a)\n",
    "plt.show()"
   ]
  },
  {
   "cell_type": "code",
   "execution_count": 51,
   "id": "163c391a",
   "metadata": {},
   "outputs": [
    {
     "name": "stdout",
     "output_type": "stream",
     "text": [
      "type: <class 'numpy.ndarray'>\n",
      "shape: (10000,), dimension: 1, dtype: float64\n",
      "numpy 배열에 저장된 데이터\n",
      " [-0.90851967 -0.05994003 -0.55380488 ...  0.47053387  0.67243142\n",
      "  1.99129549]\n"
     ]
    },
    {
     "data": {
      "image/png": "[encoded data removed]",
      "text/plain": [
       "<Figure size 432x288 with 1 Axes>"
      ]
     },
     "metadata": {
      "needs_background": "light"
     },
     "output_type": "display_data"
    }
   ],
   "source": [
    "# np.random.normal() 함수가 생성한 난수는 정규 분포의 형상을 가진다.\n",
    "a=np.random.normal(0,1,10000)\n",
    "pprint(a)\n",
    "# 정규 분포에서 10000개의 표본을 뽑은 결과를 100개의 구간(bins)으로 구분한 히스토그램으로 표현한다.\n",
    "plt.hist(a,bins=100)\n",
    "plt.show()"
   ]
  },
  {
   "cell_type": "code",
   "execution_count": 54,
   "id": "7af0bbf8",
   "metadata": {},
   "outputs": [
    {
     "name": "stdout",
     "output_type": "stream",
     "text": [
      "type: <class 'numpy.ndarray'>\n",
      "shape: (10,), dimension: 1, dtype: float64\n",
      "numpy 배열에 저장된 데이터\n",
      " [-0.53860184  0.25203865  0.01887743 -0.49200101  1.75543389  1.57844517\n",
      "  0.67495423 -0.54160346 -0.08436952 -0.27173332]\n"
     ]
    },
    {
     "data": {
      "image/png": "[encoded data removed]",
      "text/plain": [
       "<Figure size 432x288 with 1 Axes>"
      ]
     },
     "metadata": {
      "needs_background": "light"
     },
     "output_type": "display_data"
    }
   ],
   "source": [
    "# np.random.randn() 함수는 표준 정규 분포 (평균이 0이고, 표준편차가 1인)를 따르는 난수로 데이터를 생성하고 배열을 만든다.\n",
    "# np.random.normal() 함수는 정규 분포다!! 표준 정규 분포와는 다른거다!!\n",
    "# np.random.normal() 는 평균과 표준편차를 조절 할 수있는데 , np.random.randn()는 평균이 0이고, 표준편차가 1이 고정이다.\n",
    "# np.random.randn(size)\n",
    "a=np.random.randn(10)\n",
    "pprint(a)\n",
    "plt.hist(a)\n",
    "plt.show()"
   ]
  },
  {
   "cell_type": "code",
   "execution_count": 55,
   "id": "b8e2a9aa",
   "metadata": {},
   "outputs": [
    {
     "name": "stdout",
     "output_type": "stream",
     "text": [
      "type: <class 'numpy.ndarray'>\n",
      "shape: (100000,), dimension: 1, dtype: float64\n",
      "numpy 배열에 저장된 데이터\n",
      " [-1.5746953   0.16131777 -1.75016644 ...  0.52722216  0.68159808\n",
      " -0.82430567]\n"
     ]
    },
    {
     "data": {
      "image/png": "[encoded data removed]",
      "text/plain": [
       "<Figure size 432x288 with 1 Axes>"
      ]
     },
     "metadata": {
      "needs_background": "light"
     },
     "output_type": "display_data"
    }
   ],
   "source": [
    "# a=np.random.randn() 함수가 생성한 난수는 정규 분포의 형상을 가진다.\n",
    "a=np.random.randn(100000)\n",
    "pprint(a)\n",
    "plt.hist(a,bins=100)\n",
    "plt.show()"
   ]
  },
  {
   "cell_type": "code",
   "execution_count": 63,
   "id": "f2c243ee",
   "metadata": {},
   "outputs": [
    {
     "name": "stdout",
     "output_type": "stream",
     "text": [
      "type: <class 'numpy.ndarray'>\n",
      "shape: (3, 2), dimension: 2, dtype: float64\n",
      "numpy 배열에 저장된 데이터\n",
      " [[0.39227764 0.40767221]\n",
      " [0.99921174 0.79320165]\n",
      " [0.96400058 0.78279225]]\n"
     ]
    },
    {
     "data": {
      "image/png": "[encoded data removed]",
      "text/plain": [
       "<Figure size 432x288 with 1 Axes>"
      ]
     },
     "metadata": {
      "needs_background": "light"
     },
     "output_type": "display_data"
    }
   ],
   "source": [
    "# np.random.rand() 함수는 0 ~ 1 사이의 균등 분포를 따르는 난수로 데이터를 생성하고 배열을 만든다.\n",
    "# np.random.rand(size)\n",
    "a=np.random.rand(3,2)\n",
    "pprint(a)\n",
    "\n",
    "# np.random.rand() 함수가 생성한 난수는 균등 분포의 형상을 가진다.\n",
    "b=np.random.rand(100000)\n",
    "plt.hist(b,bins=10) # 균등 분포가 아까 같은 정규분포 모양이 아니라 일자로 쭉 그어지는 모습이다.\n",
    "plt.show()"
   ]
  },
  {
   "cell_type": "code",
   "execution_count": 64,
   "id": "542ce755",
   "metadata": {},
   "outputs": [
    {
     "name": "stdout",
     "output_type": "stream",
     "text": [
      "type: <class 'numpy.ndarray'>\n",
      "shape: (1, 7, 10), dimension: 3, dtype: float64\n",
      "numpy 배열에 저장된 데이터\n",
      " [[[0.83145013 0.58407738 0.08275604 0.03146226 0.29064981 0.88821138\n",
      "   0.7843139  0.5370815  0.07756736 0.40429024]\n",
      "  [0.43169742 0.61764918 0.88591443 0.5980159  0.20721846 0.84244767\n",
      "   0.86484429 0.63684454 0.4145254  0.98181601]\n",
      "  [0.06433015 0.18047143 0.28710625 0.79220255 0.81480018 0.43631992\n",
      "   0.63933689 0.04530811 0.57677871 0.88898841]\n",
      "  [0.39348116 0.5745472  0.99782557 0.28079612 0.98094418 0.65463699\n",
      "   0.16343551 0.74637643 0.10937862 0.34747323]\n",
      "  [0.45083226 0.10040609 0.74420977 0.19356493 0.47353532 0.18721243\n",
      "   0.85739433 0.88102563 0.65953987 0.68071827]\n",
      "  [0.03266724 0.60403487 0.16194925 0.66968908 0.48191466 0.8996075\n",
      "   0.58195067 0.07991948 0.36958201 0.83194259]\n",
      "  [0.92450649 0.8342192  0.94552983 0.35877076 0.52453079 0.65532736\n",
      "   0.29042602 0.53476886 0.61082693 0.15705492]]]\n"
     ]
    },
    {
     "data": {
      "image/png": "[encoded data removed]",
      "text/plain": [
       "<Figure size 432x288 with 1 Axes>"
      ]
     },
     "metadata": {
      "needs_background": "light"
     },
     "output_type": "display_data"
    }
   ],
   "source": [
    "# np.random.randint() 함수는 지정된 크기만큼 low ~ high미만의 범위에서 균등 분포를 따르는 난수로 데이터를 생성하고 배열을 만든다.\n",
    "# np.random.randint(low,high,size)\n",
    "a=np.random.rand(1,7,10)\n",
    "pprint(a)\n",
    "\n",
    "# np.random.rand() 함수가 생성한 난수는 균등 분포의 형상을 가진다.\n",
    "b=np.random.randint(1,7,100000)\n",
    "plt.hist(b,bins=10) # 균등 분포가 아까 같은 정규분포 모양이 아니라 일자로 쭉 그어지는 모습이다.\n",
    "plt.show()"
   ]
  },
  {
   "cell_type": "code",
   "execution_count": 65,
   "id": "a3ba2a7d",
   "metadata": {},
   "outputs": [
    {
     "data": {
      "image/png": "[encoded data removed]",
      "text/plain": [
       "<Figure size 432x288 with 1 Axes>"
      ]
     },
     "metadata": {
      "needs_background": "light"
     },
     "output_type": "display_data"
    }
   ],
   "source": [
    "# -100에서 100의 범위에서 난수를 발생 시킨다.\n",
    "# np.random.rand() 함수가 생성한 난수는 균등 분포의 형상을 가진다.\n",
    "b=np.random.randint(-100,100,10000)\n",
    "plt.hist(b,bins=10) # 균등 분포가 아까 같은 정규분포 모양이 아니라 일자로 쭉 그어지는 모습이다.\n",
    "plt.show()"
   ]
  },
  {
   "cell_type": "code",
   "execution_count": 66,
   "id": "6a291ab6",
   "metadata": {},
   "outputs": [
    {
     "name": "stdout",
     "output_type": "stream",
     "text": [
      "type: <class 'numpy.ndarray'>\n",
      "shape: (2, 4), dimension: 2, dtype: float64\n",
      "numpy 배열에 저장된 데이터\n",
      " [[0.75533761 0.69466844 0.70583884 0.95627535]\n",
      " [0.74960407 0.04868929 0.50484431 0.82375835]]\n"
     ]
    }
   ],
   "source": [
    "# np.random.random() 함수는 0 ~ 1 사이의 균등 분포에서 난수로 데이터를 생성하고 배열을 만든다.\n",
    "# np.random.random(size) # np.random.rand 와의 차이는 np.random.rand(3,2)는 되지만 np.random.random(3,2)는 안되고\n",
    "# np.random.random((3,2))는 가능하다.\n",
    "a=np.random.random((2,4))\n",
    "pprint(a)"
   ]
  },
  {
   "cell_type": "markdown",
   "id": "9b0f5907",
   "metadata": {},
   "source": [
    "약속된 난수"
   ]
  },
  {
   "cell_type": "code",
   "execution_count": 74,
   "id": "ff33ad30",
   "metadata": {},
   "outputs": [
    {
     "name": "stdout",
     "output_type": "stream",
     "text": [
      "type: <class 'numpy.ndarray'>\n",
      "shape: (2, 3), dimension: 2, dtype: int32\n",
      "numpy 배열에 저장된 데이터\n",
      " [[8 8 3]\n",
      " [7 7 0]]\n",
      "type: <class 'numpy.ndarray'>\n",
      "shape: (2, 3), dimension: 2, dtype: float64\n",
      "numpy 배열에 저장된 데이터\n",
      " [[0.14860484 0.15671108 0.18646718]\n",
      " [0.21010774 0.4527399  0.87014264]]\n"
     ]
    }
   ],
   "source": [
    "# 무작위 수를 만드는 난수는 특정 시작 숫자로부터 난수처럼 보이는 수열을 만드는 알고리즘의 결과물이다.\n",
    "# 따라서 시작점을 설정(고정)하면 난수 발생을 재연할 수 있다. => 매번 같은 난수가 발생되게 할 수 있다. (seed() 값에 따라 누구든지 같은 값이 나온다.) \n",
    "# np.random.seed() 함수로 seed 값을 지정하면 매번 같은 배열의 난수를 얻을 수 있다.\n",
    "np.random.seed(100)\n",
    "pprint(np.random.randint(0,10, (2,3)))\n",
    "pprint(np.random.random((2,3)))"
   ]
  },
  {
   "cell_type": "markdown",
   "id": "ff61d396",
   "metadata": {},
   "source": [
    "배열 상태 검사"
   ]
  },
  {
   "cell_type": "code",
   "execution_count": null,
   "id": "b07335a6",
   "metadata": {},
   "outputs": [],
   "source": [
    "# numpy는 배열의 상태를 검사하는 다음과 같은 방법을 제공한다.\n",
    "# 배열 속성 검사 항목   배열 속성 확인 방법          예시                 결과\n",
    "# 배열 shape            np.ndarray.shape 속성        arr.shape            (5, 2, 3)\n",
    "# 배열 길이             일차원 배열 길이 확인         len(arr)             5\n",
    "# 배열 차원             np.ndarray.ndim 속성         arr.ndim             3\n",
    "# 배열 요소 수          np.ndarray.size 속성         arr.size             30\n",
    "# 배열 타입             np.ndarray.dtype 속성        arr.dtype            dtype('float64')\n",
    "# 배열 타입 명          np.ndarray.dtype.name 속성   arr.dtype.name       float64\n",
    "# 배열 타입 변환        np.ndarray.astype 속성       arr.astype(np.int)   배열 타입 변환"
   ]
  },
  {
   "cell_type": "code",
   "execution_count": 75,
   "id": "f630f1d0",
   "metadata": {},
   "outputs": [
    {
     "name": "stdout",
     "output_type": "stream",
     "text": [
      "type: <class 'numpy.ndarray'>\n",
      "shape: (2, 3, 6), dimension: 3, dtype: float64\n",
      "numpy 배열에 저장된 데이터\n",
      " [[[0.06368104 0.62431189 0.52334774 0.56229626 0.00581719 0.30742321]\n",
      "  [0.95018431 0.12665424 0.07898787 0.31135313 0.63238359 0.69935892]\n",
      "  [0.64196495 0.92002378 0.29887635 0.56874553 0.17862432 0.5325737 ]]\n",
      "\n",
      " [[0.64669147 0.14206538 0.58138896 0.47918994 0.38641911 0.44046495]\n",
      "  [0.40475733 0.44225404 0.03012328 0.77600531 0.55095838 0.3810734 ]\n",
      "  [0.52926578 0.9568769  0.17582131 0.11830284 0.86294567 0.07486688]]]\n"
     ]
    }
   ],
   "source": [
    "arr= np.random.random((2,3,6))\n",
    "pprint(arr)"
   ]
  },
  {
   "cell_type": "code",
   "execution_count": 79,
   "id": "deddfa28",
   "metadata": {},
   "outputs": [
    {
     "name": "stdout",
     "output_type": "stream",
     "text": [
      "배열의 타입: <class 'numpy.ndarray'>\n",
      "배열의 shape: (2, 3, 6)\n",
      "배열의 길이(면): 2\n",
      "배열의 길이(행): 3\n",
      "배열의 길이(열): 6\n",
      "배열의 차원: 3\n",
      "배열을 구성하는 요소의 개수: 36\n",
      "배열의 저장된 데이터 타입: float64\n",
      "배열의 저장된 데이터 타입의 이름: float64\n",
      "배열의 요소를 정수(int)로 변환한다: [[[0 0 0 0 0 0]\n",
      "  [0 0 0 0 0 0]\n",
      "  [0 0 0 0 0 0]]\n",
      "\n",
      " [[0 0 0 0 0 0]\n",
      "  [0 0 0 0 0 0]\n",
      "  [0 0 0 0 0 0]]]\n"
     ]
    }
   ],
   "source": [
    "# numpy 배열 객체는 다음과 같은 방법으로 속성을 확인할 수 있다.\n",
    "print('배열의 타입: {}'.format(type(arr)))\n",
    "print('배열의 shape: {}'.format(arr.shape))\n",
    "print('배열의 길이(면): {}'.format(len(arr)))\n",
    "print('배열의 길이(행): {}'.format(len(arr[0])))\n",
    "print('배열의 길이(열): {}'.format(len(arr[0][0])))\n",
    "print('배열의 차원: {}'.format(arr.ndim))\n",
    "print('배열을 구성하는 요소의 개수: {}'.format(arr.size)) # 기억장소의 개수 여기에서는 2*3*6\n",
    "print('배열의 저장된 데이터 타입: {}'.format(arr.dtype))\n",
    "print('배열의 저장된 데이터 타입의 이름: {}'.format(arr.dtype.name))\n",
    "# 배열의 요소를 정수(int)로 변환한다. => 배열 요소의 실제 값이 변환되는 것이 아니고 화면에 보여주기만 하는 것이다. \n",
    "print('배열의 요소를 정수(int)로 변환한다: {}'.format(arr.astype(np.int)))\n",
    "# 실수 값이 정수형으로 바뀌느라 뒤에 소수점 부분이 전부 날라가서, 전부 0으로 나온다. 그러나 실제 데이터가 바뀌지 않는다. 그저 보여지는것 뿐\n",
    "\n",
    "# 그런데 실제 데이터가 변경되게 하려면 정수로 변환한 결과를 배열에 다시 저장하면 된다.\n",
    "a=arr.astype(np.int)"
   ]
  },
  {
   "cell_type": "code",
   "execution_count": null,
   "id": "8c833160",
   "metadata": {},
   "outputs": [],
   "source": []
  },
  {
   "cell_type": "code",
   "execution_count": null,
   "id": "cf7f1c00",
   "metadata": {},
   "outputs": [],
   "source": []
  }
 ],
 "metadata": {
  "kernelspec": {
   "display_name": "Python 3",
   "language": "python",
   "name": "python3"
  },
  "language_info": {
   "codemirror_mode": {
    "name": "ipython",
    "version": 3
   },
   "file_extension": ".py",
   "mimetype": "text/x-python",
   "name": "python",
   "nbconvert_exporter": "python",
   "pygments_lexer": "ipython3",
   "version": "3.6.8"
  }
 },
 "nbformat": 4,
 "nbformat_minor": 5
}
