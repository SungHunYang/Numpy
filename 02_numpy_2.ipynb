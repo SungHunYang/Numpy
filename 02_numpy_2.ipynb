{
 "cells": [
  {
   "cell_type": "code",
   "execution_count": 1,
   "id": "1d345e2a",
   "metadata": {},
   "outputs": [],
   "source": [
    "import warnings\n",
    "warnings.filterwarnings('ignore')\n",
    "from IPython.display import Image\n",
    "import numpy as np\n",
    "\n",
    "def pprint(arr):\n",
    "    print('type: {}'.format(type(arr)))\n",
    "    print('shape: {}, dimension: {}, dtype: {}'.format(arr.shape,arr.ndim,arr.dtype))\n",
    "    print('numpy 배열에 저장된 데이터\\n',arr)"
   ]
  },
  {
   "cell_type": "markdown",
   "id": "780bd2cf",
   "metadata": {},
   "source": [
    "numpy 배열 파일 입출력"
   ]
  },
  {
   "cell_type": "code",
   "execution_count": 3,
   "id": "1492da78",
   "metadata": {},
   "outputs": [],
   "source": [
    "# numpy는 배열 객체를 바이너리 파일 또는 텍스트 파일에 저장하고 로딩하는 기능을 제공한다.\n",
    "# 메소드 이름    기능                                               파일포맷\n",
    "# np.save()      numpy 배열 객체 1개를 파일에 저장한다.              바이너리 => 얘들은 넘파이 전용 파일이다, 텍스트 보다 읽는 속도가 빠르다.\n",
    "# np.savez()     numpy 배열 객체 여러개를 파일에 저장한다.           바이너리 => 바이너리 파일은 우리가 읽을 수 없다.\n",
    "# np.load()      numpy 배열 저장 파일로 부터 객체를 읽어온다.        바이너리\n",
    "# np.savetxt()   numpy 배열 객체를 텍스트 파일에 저장한다.           텍스트 => txt(x), csv(o), tsv(o)\n",
    "# np.loadtxt()   텍스트 파일에 저장된 numpy 배열 객체를 읽어온다.     텍스트 => 텍스트는 어디에서든지 호환이 가능하다."
   ]
  },
  {
   "cell_type": "code",
   "execution_count": 5,
   "id": "18e49c83",
   "metadata": {},
   "outputs": [
    {
     "name": "stdout",
     "output_type": "stream",
     "text": [
      "type: <class 'numpy.ndarray'>\n",
      "shape: (2, 3), dimension: 2, dtype: int32\n",
      "numpy 배열에 저장된 데이터\n",
      " [[8 8 3]\n",
      " [7 7 0]]\n",
      "type: <class 'numpy.ndarray'>\n",
      "shape: (2, 3), dimension: 2, dtype: int32\n",
      "numpy 배열에 저장된 데이터\n",
      " [[4 2 5]\n",
      " [2 2 2]]\n"
     ]
    }
   ],
   "source": [
    "np.random.seed(100)\n",
    "a= np.random.randint(0,10,(2,3))\n",
    "pprint(a)\n",
    "b= np.random.randint(0,10,(2,3))\n",
    "pprint(b)"
   ]
  },
  {
   "cell_type": "code",
   "execution_count": 7,
   "id": "1db6a557",
   "metadata": {},
   "outputs": [],
   "source": [
    "# 배열 객체 저장 - 바이너리 파일\n",
    "# np.save(), np.savez() 함수를 이용해서 배열 객체를 바이너리(2진) 형태의 파일로 저장할 수 있다.\n",
    "# np.save() : 배열 1개를 저장한다. (확장명 => npy(넘파이))\n",
    "# np.savez() : 배열 여러개를 저장한다. (확장명 => npz)\n",
    "\n",
    "# a 배열을 파일로 저장한다.\n",
    "# 현재 소스파일이 있는 폴더를 => [ . ] 로 나타낸다.\n",
    "# 확장명은 써주지 않아도 된다 알아서 붙는다.\n",
    "np.save('./output/my_array1',a)\n",
    "\n",
    "# a,b 배열을 파일로 저장한다.\n",
    "np.savez('./output/my_array2',a,b)"
   ]
  },
  {
   "cell_type": "code",
   "execution_count": 9,
   "id": "343f8482",
   "metadata": {},
   "outputs": [
    {
     "name": "stdout",
     "output_type": "stream",
     "text": [
      "[[8 8 3]\n",
      " [7 7 0]]\n",
      "<numpy.lib.npyio.NpzFile object at 0x000001F2FD2DD5C0>\n",
      "[[8 8 3]\n",
      " [7 7 0]]\n",
      "[[4 2 5]\n",
      " [2 2 2]]\n"
     ]
    }
   ],
   "source": [
    "# np.load() 함수로 npy, npz 파일로 부터 배열 데이터를 읽어 올 수 있다. 확장명을 반드시 적어야 한다.\n",
    "# npy 파일 읽기\n",
    "print(np.load('./output/my_array1.npy'))\n",
    "# npz 파일 읽기\n",
    "print(np.load('./output/my_array2.npz'))\n",
    "# 주소에 생성되어 있던 객체를 받아줄 npzFile 이라는 변수를 만든다\n",
    "# npz는 파일이 여러개여서 그런듯\n",
    "npzFile = np.load('./output/my_array2.npz')\n",
    "# 이렇게 배열처럼 뽑아 낸다.\n",
    "print(npzFile['arr_0'])\n",
    "print(npzFile['arr_1'])"
   ]
  },
  {
   "cell_type": "code",
   "execution_count": 10,
   "id": "48475477",
   "metadata": {},
   "outputs": [
    {
     "name": "stdout",
     "output_type": "stream",
     "text": [
      "type: <class 'numpy.ndarray'>\n",
      "shape: (3, 4), dimension: 2, dtype: float64\n",
      "numpy 배열에 저장된 데이터\n",
      " [[0.13670659 0.57509333 0.89132195 0.20920212]\n",
      " [0.18532822 0.10837689 0.21969749 0.97862378]\n",
      " [0.81168315 0.17194101 0.81622475 0.27407375]]\n"
     ]
    }
   ],
   "source": [
    "data = np.random.random((3,4))\n",
    "pprint(data)"
   ]
  },
  {
   "cell_type": "code",
   "execution_count": 12,
   "id": "e48a2394",
   "metadata": {},
   "outputs": [],
   "source": [
    "# 배열 객체 저장 - 텍스트 파일\n",
    "# np.savetxt() 함수로 배열 객체를 텍스트 파일로 저장 할 수 있다. => csv파일, tsv 파일\n",
    "# np.savetxt('파일 이름', 데이터, delimiter='구분자' ) # 구분자가 ,면 csv  \\t(텝)이면 tsv\n",
    "\n",
    "# data 배열을 텍스트 파일로 저장한다.\n",
    "# 확장명을 반드시 적어야 제대로 생긴다.\n",
    "# np.savetxt('./output/saved.csv',data)\n",
    "np.savetxt('./output/saved.csv',data,delimiter=',') # 위에랑 똑같다.\n",
    "\n",
    "np.savetxt('./output/saved.tsv',data,delimiter='\\t')"
   ]
  },
  {
   "cell_type": "markdown",
   "id": "de8778bd",
   "metadata": {},
   "source": [
    "배열(행렬) 연산 - 산술연산"
   ]
  },
  {
   "cell_type": "code",
   "execution_count": 16,
   "id": "6e8dc6e1",
   "metadata": {},
   "outputs": [
    {
     "name": "stdout",
     "output_type": "stream",
     "text": [
      "type: <class 'numpy.ndarray'>\n",
      "shape: (3, 3), dimension: 2, dtype: int32\n",
      "numpy 배열에 저장된 데이터\n",
      " [[1 2 3]\n",
      " [4 5 6]\n",
      " [7 8 9]]\n",
      "type: <class 'numpy.ndarray'>\n",
      "shape: (3, 3), dimension: 2, dtype: int32\n",
      "numpy 배열에 저장된 데이터\n",
      " [[9 8 7]\n",
      " [6 5 4]\n",
      " [3 2 1]]\n"
     ]
    }
   ],
   "source": [
    "a= np.arange(1,10).reshape(3,3) # reshape으로 형태를 바꿔줌\n",
    "pprint(a)\n",
    "\n",
    "b = np.arange(9,0,-1).reshape(3,3) # reshape으로 형태를 바꿔줌\n",
    "pprint(b)"
   ]
  },
  {
   "cell_type": "code",
   "execution_count": 19,
   "id": "8fd3e120",
   "metadata": {},
   "outputs": [
    {
     "name": "stdout",
     "output_type": "stream",
     "text": [
      "type: <class 'numpy.ndarray'>\n",
      "shape: (3, 3), dimension: 2, dtype: int32\n",
      "numpy 배열에 저장된 데이터\n",
      " [[10 10 10]\n",
      " [10 10 10]\n",
      " [10 10 10]]\n",
      "type: <class 'numpy.ndarray'>\n",
      "shape: (3, 3), dimension: 2, dtype: int32\n",
      "numpy 배열에 저장된 데이터\n",
      " [[10 10 10]\n",
      " [10 10 10]\n",
      " [10 10 10]]\n"
     ]
    }
   ],
   "source": [
    "# 덧셈 : +, np.add()\n",
    "pprint(a+b)\n",
    "pprint(np.add(a,b)) # 둘다 똑같은 거다."
   ]
  },
  {
   "cell_type": "code",
   "execution_count": 20,
   "id": "b43f85b2",
   "metadata": {},
   "outputs": [
    {
     "name": "stdout",
     "output_type": "stream",
     "text": [
      "type: <class 'numpy.ndarray'>\n",
      "shape: (3, 3), dimension: 2, dtype: int32\n",
      "numpy 배열에 저장된 데이터\n",
      " [[-8 -6 -4]\n",
      " [-2  0  2]\n",
      " [ 4  6  8]]\n",
      "type: <class 'numpy.ndarray'>\n",
      "shape: (3, 3), dimension: 2, dtype: int32\n",
      "numpy 배열에 저장된 데이터\n",
      " [[-8 -6 -4]\n",
      " [-2  0  2]\n",
      " [ 4  6  8]]\n"
     ]
    }
   ],
   "source": [
    "# 뺄셈 : -, np.subtract\n",
    "pprint(a-b)\n",
    "pprint(np.subtract(a,b))"
   ]
  },
  {
   "cell_type": "code",
   "execution_count": 21,
   "id": "3f75838d",
   "metadata": {},
   "outputs": [
    {
     "name": "stdout",
     "output_type": "stream",
     "text": [
      "type: <class 'numpy.ndarray'>\n",
      "shape: (3, 3), dimension: 2, dtype: int32\n",
      "numpy 배열에 저장된 데이터\n",
      " [[ 9 16 21]\n",
      " [24 25 24]\n",
      " [21 16  9]]\n",
      "type: <class 'numpy.ndarray'>\n",
      "shape: (3, 3), dimension: 2, dtype: int32\n",
      "numpy 배열에 저장된 데이터\n",
      " [[ 9 16 21]\n",
      " [24 25 24]\n",
      " [21 16  9]]\n"
     ]
    }
   ],
   "source": [
    "# 곱셈 : *, np.multiply()  // 이거 배열 개수 곱셈이 아니라 배열에 값 각각 하는거 알지?\n",
    "pprint(a*b)\n",
    "pprint(np.multiply(a,b))"
   ]
  },
  {
   "cell_type": "code",
   "execution_count": 23,
   "id": "2033bce9",
   "metadata": {},
   "outputs": [
    {
     "name": "stdout",
     "output_type": "stream",
     "text": [
      "type: <class 'numpy.ndarray'>\n",
      "shape: (3, 3), dimension: 2, dtype: int32\n",
      "numpy 배열에 저장된 데이터\n",
      " [[0 0 0]\n",
      " [0 1 1]\n",
      " [2 4 9]]\n",
      "type: <class 'numpy.ndarray'>\n",
      "shape: (3, 3), dimension: 2, dtype: float64\n",
      "numpy 배열에 저장된 데이터\n",
      " [[0.11111111 0.25       0.42857143]\n",
      " [0.66666667 1.         1.5       ]\n",
      " [2.33333333 4.         9.        ]]\n"
     ]
    }
   ],
   "source": [
    "# 나눗셈 : /, // , np.divide(), %\n",
    "pprint(a//b)\n",
    "pprint(np.divide(a,b))"
   ]
  },
  {
   "cell_type": "code",
   "execution_count": 24,
   "id": "2f42aa26",
   "metadata": {},
   "outputs": [
    {
     "name": "stdout",
     "output_type": "stream",
     "text": [
      "[[2.71828183e+00 7.38905610e+00 2.00855369e+01]\n",
      " [5.45981500e+01 1.48413159e+02 4.03428793e+02]\n",
      " [1.09663316e+03 2.98095799e+03 8.10308393e+03]]\n"
     ]
    }
   ],
   "source": [
    "# 지수\n",
    "print(np.exp(a))"
   ]
  },
  {
   "cell_type": "code",
   "execution_count": 25,
   "id": "d18fc49c",
   "metadata": {},
   "outputs": [
    {
     "name": "stdout",
     "output_type": "stream",
     "text": [
      "[[1.         1.41421356 1.73205081]\n",
      " [2.         2.23606798 2.44948974]\n",
      " [2.64575131 2.82842712 3.        ]]\n"
     ]
    }
   ],
   "source": [
    "# 제곱근(루트)\n",
    "print(np.sqrt(a))"
   ]
  },
  {
   "cell_type": "code",
   "execution_count": 27,
   "id": "313c9502",
   "metadata": {},
   "outputs": [
    {
     "name": "stdout",
     "output_type": "stream",
     "text": [
      "[[ 0.54030231 -0.41614684 -0.9899925 ]\n",
      " [-0.65364362  0.28366219  0.96017029]\n",
      " [ 0.75390225 -0.14550003 -0.91113026]]\n",
      "[[ 0.84147098  0.90929743  0.14112001]\n",
      " [-0.7568025  -0.95892427 -0.2794155 ]\n",
      " [ 0.6569866   0.98935825  0.41211849]]\n",
      "[[ 1.55740772 -2.18503986 -0.14254654]\n",
      " [ 1.15782128 -3.38051501 -0.29100619]\n",
      " [ 0.87144798 -6.79971146 -0.45231566]]\n"
     ]
    }
   ],
   "source": [
    "# 삼각함수\n",
    "print(np.cos(a))\n",
    "print(np.sin(a))\n",
    "print(np.tan(a))"
   ]
  },
  {
   "cell_type": "code",
   "execution_count": 28,
   "id": "c361cfda",
   "metadata": {},
   "outputs": [
    {
     "name": "stdout",
     "output_type": "stream",
     "text": [
      "[[0.         0.69314718 1.09861229]\n",
      " [1.38629436 1.60943791 1.79175947]\n",
      " [1.94591015 2.07944154 2.19722458]]\n"
     ]
    }
   ],
   "source": [
    "# 로그\n",
    "print(np.log(a))"
   ]
  },
  {
   "cell_type": "code",
   "execution_count": 29,
   "id": "4076ca10",
   "metadata": {},
   "outputs": [
    {
     "name": "stdout",
     "output_type": "stream",
     "text": [
      "type: <class 'numpy.ndarray'>\n",
      "shape: (3, 3), dimension: 2, dtype: int32\n",
      "numpy 배열에 저장된 데이터\n",
      " [[ 30  24  18]\n",
      " [ 84  69  54]\n",
      " [138 114  90]]\n"
     ]
    }
   ],
   "source": [
    "# 행렬의 내적\n",
    "pprint(np.dot(a,b))"
   ]
  },
  {
   "cell_type": "markdown",
   "id": "a061d996",
   "metadata": {},
   "source": [
    "비교연산"
   ]
  },
  {
   "cell_type": "code",
   "execution_count": 31,
   "id": "27482325",
   "metadata": {},
   "outputs": [
    {
     "name": "stdout",
     "output_type": "stream",
     "text": [
      "[[False False False]\n",
      " [False  True False]\n",
      " [False False False]]\n"
     ]
    }
   ],
   "source": [
    "# 배열 요소별 비교 : >, >=, < .. 등등등\n",
    "print(a == b)"
   ]
  },
  {
   "cell_type": "code",
   "execution_count": 36,
   "id": "60d504c1",
   "metadata": {},
   "outputs": [
    {
     "name": "stdout",
     "output_type": "stream",
     "text": [
      "False\n"
     ]
    }
   ],
   "source": [
    "# 배열 통째로 비교\n",
    "# np.array_equal() 함수를 사용하면 배열 전체를 비교할 수 있다.\n",
    "# 모든 요소가 같아야 하고 하나라도 다르면 false가 나온다.\n",
    "print(np.array_equal(a,b))"
   ]
  },
  {
   "cell_type": "markdown",
   "id": "c4bcd966",
   "metadata": {},
   "source": [
    "집계 함수"
   ]
  },
  {
   "cell_type": "code",
   "execution_count": 37,
   "id": "7fdc9cc4",
   "metadata": {},
   "outputs": [],
   "source": [
    "# 넘파이의 거의 모든 집계 함ㅅ는 axis를 기준으로 계산된다.\n",
    "# 집계 함수에서 axis를 지정하지 않으면 axis=None이 기본값으로 사용된다.\n",
    "# axis=Noen, axis=0, axis =1 과 같이 지정한다."
   ]
  },
  {
   "cell_type": "code",
   "execution_count": 38,
   "id": "b41299d5",
   "metadata": {},
   "outputs": [
    {
     "name": "stdout",
     "output_type": "stream",
     "text": [
      "type: <class 'numpy.ndarray'>\n",
      "shape: (3, 3), dimension: 2, dtype: int32\n",
      "numpy 배열에 저장된 데이터\n",
      " [[1 2 3]\n",
      " [4 5 6]\n",
      " [7 8 9]]\n"
     ]
    }
   ],
   "source": [
    "a= np.arange(1,10).reshape(3,3)\n",
    "pprint(a)"
   ]
  },
  {
   "cell_type": "markdown",
   "id": "7175cb85",
   "metadata": {},
   "source": [
    "합계 : 배열객체.sum(axis), np.sum(배열객체,axis)"
   ]
  },
  {
   "cell_type": "code",
   "execution_count": 40,
   "id": "60a21330",
   "metadata": {},
   "outputs": [
    {
     "name": "stdout",
     "output_type": "stream",
     "text": [
      "45\n",
      "45\n",
      "45\n",
      "45\n"
     ]
    }
   ],
   "source": [
    "# axis = None\n",
    "# axis = None은 전체 배열을 하나의 배열로 간주하고 집계 함수의 범위전체 배열로 정의한다. 생략시 기본 값으로 사용된다.\n",
    "print(a.sum())\n",
    "print(a.sum(axis=None))\n",
    "print(np.sum(a))\n",
    "print(np.sum(a,axis=None))"
   ]
  },
  {
   "cell_type": "code",
   "execution_count": 41,
   "id": "6ca438d0",
   "metadata": {},
   "outputs": [
    {
     "name": "stdout",
     "output_type": "stream",
     "text": [
      "[12 15 18]\n",
      "[12 15 18]\n"
     ]
    }
   ],
   "source": [
    "# axis=0\n",
    "# axis=0은 행을 기준으로 각 행의 동일한 인덱스 요소를 그룹으로 연산한다. => 각 열의 합계\n",
    "print(a.sum(axis=0))\n",
    "print(np.sum(a,axis=0))"
   ]
  },
  {
   "cell_type": "code",
   "execution_count": 42,
   "id": "e93cf3a3",
   "metadata": {},
   "outputs": [
    {
     "name": "stdout",
     "output_type": "stream",
     "text": [
      "[ 6 15 24]\n",
      "[ 6 15 24]\n"
     ]
    }
   ],
   "source": [
    "# axis=1\n",
    "# axis=1은 열을 기준으로 각 열의 동일한 인덱스 요소를 그룹으로 연산한다. => 각 행의 합계\n",
    "print(a.sum(axis=1))\n",
    "print(np.sum(a,axis=1))"
   ]
  },
  {
   "cell_type": "markdown",
   "id": "49ab014e",
   "metadata": {},
   "source": [
    "최대값 : 배열객체.max(axis), np.max(배열객체,axis)  \n",
    "최소값 : 배열객체.min(axis), np.min(배열객체,axis)"
   ]
  },
  {
   "cell_type": "code",
   "execution_count": 43,
   "id": "0efcf2a6",
   "metadata": {},
   "outputs": [
    {
     "name": "stdout",
     "output_type": "stream",
     "text": [
      "9\n",
      "9\n",
      "9\n",
      "9\n"
     ]
    }
   ],
   "source": [
    "print(a.max())\n",
    "print(a.max(axis=None))\n",
    "print(np.max(a))\n",
    "print(np.max(a,axis=None))"
   ]
  },
  {
   "cell_type": "code",
   "execution_count": 46,
   "id": "0e94e1c4",
   "metadata": {},
   "outputs": [
    {
     "name": "stdout",
     "output_type": "stream",
     "text": [
      "[7 8 9]\n",
      "[7 8 9]\n",
      "[3 6 9]\n",
      "[3 6 9]\n"
     ]
    }
   ],
   "source": [
    "print(a.max(axis=0))\n",
    "print(np.max(a,axis=0))\n",
    "print(a.max(axis=1))\n",
    "print(np.max(a,axis=1))"
   ]
  },
  {
   "cell_type": "code",
   "execution_count": 47,
   "id": "c54618bf",
   "metadata": {},
   "outputs": [
    {
     "name": "stdout",
     "output_type": "stream",
     "text": [
      "1\n",
      "1\n",
      "1\n",
      "1\n"
     ]
    }
   ],
   "source": [
    "print(a.min())\n",
    "print(a.min(axis=None))\n",
    "print(np.min(a))\n",
    "print(np.min(a,axis=None))"
   ]
  },
  {
   "cell_type": "code",
   "execution_count": 49,
   "id": "aa729fb2",
   "metadata": {},
   "outputs": [
    {
     "name": "stdout",
     "output_type": "stream",
     "text": [
      "[1 2 3]\n",
      "[1 2 3]\n",
      "[1 4 7]\n",
      "[1 4 7]\n"
     ]
    }
   ],
   "source": [
    "print(a.min(axis=0))\n",
    "print(np.min(a,axis=0))\n",
    "print(a.min(axis=1))\n",
    "print(np.min(a,axis=1))"
   ]
  },
  {
   "cell_type": "markdown",
   "id": "6c652737",
   "metadata": {},
   "source": [
    "누적 합계 : 배열객체.cumsum(axis), np.cumsum(배열객체,axis)"
   ]
  },
  {
   "cell_type": "code",
   "execution_count": 50,
   "id": "e37e8be1",
   "metadata": {},
   "outputs": [
    {
     "name": "stdout",
     "output_type": "stream",
     "text": [
      "[ 1  3  6 10 15 21 28 36 45]\n",
      "[ 1  3  6 10 15 21 28 36 45]\n",
      "[ 1  3  6 10 15 21 28 36 45]\n",
      "[ 1  3  6 10 15 21 28 36 45]\n"
     ]
    }
   ],
   "source": [
    "# 첫번째는 1 더한거, 두번째는 1+2, 세번째는 1+2+3, 네번째 1+2+3+4  ... 이런식\n",
    "print(a.cumsum())\n",
    "print(a.cumsum(axis=None))\n",
    "print(np.cumsum(a))\n",
    "print(np.cumsum(a,axis=None))"
   ]
  },
  {
   "cell_type": "code",
   "execution_count": 51,
   "id": "f28406e5",
   "metadata": {},
   "outputs": [
    {
     "name": "stdout",
     "output_type": "stream",
     "text": [
      "[[ 1  2  3]\n",
      " [ 5  7  9]\n",
      " [12 15 18]]\n",
      "[[ 1  2  3]\n",
      " [ 5  7  9]\n",
      " [12 15 18]]\n",
      "[[ 1  3  6]\n",
      " [ 4  9 15]\n",
      " [ 7 15 24]]\n",
      "[[ 1  3  6]\n",
      " [ 4  9 15]\n",
      " [ 7 15 24]]\n"
     ]
    }
   ],
   "source": [
    "# 열끼리 한줄씩 누적함\n",
    "print(a.cumsum(axis=0))\n",
    "print(np.cumsum(a,axis=0))\n",
    "# 행끼리 한줄씩 누적함\n",
    "print(a.cumsum(axis=1))\n",
    "print(np.cumsum(a,axis=1))"
   ]
  },
  {
   "cell_type": "markdown",
   "id": "b3fa87af",
   "metadata": {},
   "source": [
    "평균 : 배열객체.mean(axis),np.mean(axis)"
   ]
  },
  {
   "cell_type": "code",
   "execution_count": 52,
   "id": "18920e66",
   "metadata": {},
   "outputs": [
    {
     "name": "stdout",
     "output_type": "stream",
     "text": [
      "5.0\n",
      "5.0\n",
      "5.0\n",
      "5.0\n"
     ]
    }
   ],
   "source": [
    "print(a.mean())\n",
    "print(a.mean(axis=None))\n",
    "print(np.mean(a))\n",
    "print(np.mean(a,axis=None))"
   ]
  },
  {
   "cell_type": "code",
   "execution_count": 53,
   "id": "14ba964e",
   "metadata": {},
   "outputs": [
    {
     "name": "stdout",
     "output_type": "stream",
     "text": [
      "[4. 5. 6.]\n",
      "[4. 5. 6.]\n",
      "[2. 5. 8.]\n",
      "[2. 5. 8.]\n"
     ]
    }
   ],
   "source": [
    "print(a.mean(axis=0))\n",
    "print(np.mean(a,axis=0))\n",
    "print(a.mean(axis=1))\n",
    "print(np.mean(a,axis=1))"
   ]
  },
  {
   "cell_type": "markdown",
   "id": "051387c0",
   "metadata": {},
   "source": [
    "중간값 : np.median(배열객체,axis)"
   ]
  },
  {
   "cell_type": "code",
   "execution_count": 54,
   "id": "29dd7926",
   "metadata": {},
   "outputs": [
    {
     "name": "stdout",
     "output_type": "stream",
     "text": [
      "5.0\n",
      "[4. 5. 6.]\n",
      "[2. 5. 8.]\n"
     ]
    }
   ],
   "source": [
    "# 중간값과 평균의 차이는 알지? 당연히 알아야 한다.\n",
    "print(np.median(a,axis=None))\n",
    "print(np.median(a,axis=0))\n",
    "print(np.median(a,axis=1))"
   ]
  },
  {
   "cell_type": "markdown",
   "id": "d7d0fb70",
   "metadata": {},
   "source": [
    "표준편차 : 배열객체.std(axis), np.std(배열객체, axis)  \n",
    "표준편차 => (값-평균)^2 / 개수 => 전체 루트값. // 루트 없으면 분산  \n",
    "편차니까 (값-평균) 값으로 구하는거지"
   ]
  },
  {
   "cell_type": "code",
   "execution_count": 55,
   "id": "81bd700f",
   "metadata": {},
   "outputs": [
    {
     "name": "stdout",
     "output_type": "stream",
     "text": [
      "2.581988897471611\n",
      "2.581988897471611\n",
      "2.581988897471611\n",
      "2.581988897471611\n"
     ]
    }
   ],
   "source": [
    "print(a.std())\n",
    "print(a.std(axis=None))\n",
    "print(np.std(a))\n",
    "print(np.std(a,axis=None))"
   ]
  },
  {
   "cell_type": "code",
   "execution_count": 56,
   "id": "b9942122",
   "metadata": {},
   "outputs": [
    {
     "name": "stdout",
     "output_type": "stream",
     "text": [
      "[2.44948974 2.44948974 2.44948974]\n",
      "[2.44948974 2.44948974 2.44948974]\n",
      "[0.81649658 0.81649658 0.81649658]\n",
      "[0.81649658 0.81649658 0.81649658]\n"
     ]
    }
   ],
   "source": [
    "print(a.std(axis=0))\n",
    "print(np.std(a,axis=0))\n",
    "print(a.std(axis=1))\n",
    "print(np.std(a,axis=1))"
   ]
  },
  {
   "cell_type": "markdown",
   "id": "53e9f8a9",
   "metadata": {},
   "source": [
    "브로드캐스팅 => 다대일 연산"
   ]
  },
  {
   "cell_type": "code",
   "execution_count": 57,
   "id": "fb029008",
   "metadata": {},
   "outputs": [],
   "source": [
    "# shape이 같은 두 배열에 이항 연산은 배열 요소별로 실행된다.\n",
    "# 두 배열의 shape이 다를 경우 두 배열의 형상을 맞추는 아래 그림과 같은 브로드캐스팅 과정을 거쳐 실행된다."
   ]
  },
  {
   "cell_type": "markdown",
   "id": "67e2bf92",
   "metadata": {},
   "source": [
    "shape이 같은 두 배열의 연산"
   ]
  },
  {
   "cell_type": "code",
   "execution_count": 60,
   "id": "00ec3a12",
   "metadata": {},
   "outputs": [
    {
     "name": "stdout",
     "output_type": "stream",
     "text": [
      "type: <class 'numpy.ndarray'>\n",
      "shape: (4, 6), dimension: 2, dtype: int32\n",
      "numpy 배열에 저장된 데이터\n",
      " [[ 1  2  3  4  5  6]\n",
      " [ 7  8  9 10 11 12]\n",
      " [13 14 15 16 17 18]\n",
      " [19 20 21 22 23 24]]\n",
      "type: <class 'numpy.ndarray'>\n",
      "shape: (4, 6), dimension: 2, dtype: int32\n",
      "numpy 배열에 저장된 데이터\n",
      " [[25 26 27 28 29 30]\n",
      " [31 32 33 34 35 36]\n",
      " [37 38 39 40 41 42]\n",
      " [43 44 45 46 47 48]]\n",
      "type: <class 'numpy.ndarray'>\n",
      "shape: (4, 6), dimension: 2, dtype: int32\n",
      "numpy 배열에 저장된 데이터\n",
      " [[26 28 30 32 34 36]\n",
      " [38 40 42 44 46 48]\n",
      " [50 52 54 56 58 60]\n",
      " [62 64 66 68 70 72]]\n"
     ]
    }
   ],
   "source": [
    "a= np.arange(1,25).reshape(4,6)\n",
    "pprint(a)\n",
    "b = np.arange(25,49).reshape(4,6)\n",
    "pprint(b)\n",
    "# shape이 같은 두 배열을 이항 연산을 할 경우 위치가 같은 요소 단위로 실행 된다.\n",
    "pprint(a+b)"
   ]
  },
  {
   "cell_type": "markdown",
   "id": "1ed91b83",
   "metadata": {},
   "source": [
    "shape이 다른 두 배열의 연산  \n",
    "shape이 다른 두 배열 사이의 이항 연산에서 브로드캐스팅 발생 시 두 배열을 같은 shape으로 만든 후 연산을 실행한다."
   ]
  },
  {
   "cell_type": "code",
   "execution_count": 61,
   "id": "4d9ce3be",
   "metadata": {},
   "outputs": [
    {
     "name": "stdout",
     "output_type": "stream",
     "text": [
      "type: <class 'numpy.ndarray'>\n",
      "shape: (4, 6), dimension: 2, dtype: int32\n",
      "numpy 배열에 저장된 데이터\n",
      " [[ 1  2  3  4  5  6]\n",
      " [ 7  8  9 10 11 12]\n",
      " [13 14 15 16 17 18]\n",
      " [19 20 21 22 23 24]]\n",
      "type: <class 'numpy.ndarray'>\n",
      "shape: (4, 6), dimension: 2, dtype: int32\n",
      "numpy 배열에 저장된 데이터\n",
      " [[101 102 103 104 105 106]\n",
      " [107 108 109 110 111 112]\n",
      " [113 114 115 116 117 118]\n",
      " [119 120 121 122 123 124]]\n"
     ]
    }
   ],
   "source": [
    "# case 1 : 배열과 스칼라(단일 값)\n",
    "# 배열과 스칼라 사이의 이항 연산시 스칼라를 배열로 변환한다.\n",
    "a= np.arange(1,25).reshape(4,6)\n",
    "pprint(a)\n",
    "# 이런게 브로드캐스팅이다 -> 모든 값에 100이 더해지잖슴\n",
    "pprint(a + 100)"
   ]
  },
  {
   "cell_type": "code",
   "execution_count": 64,
   "id": "be77d43e",
   "metadata": {},
   "outputs": [
    {
     "name": "stdout",
     "output_type": "stream",
     "text": [
      "type: <class 'numpy.ndarray'>\n",
      "shape: (4, 6), dimension: 2, dtype: int32\n",
      "numpy 배열에 저장된 데이터\n",
      " [[100 100 100 100 100 100]\n",
      " [100 100 100 100 100 100]\n",
      " [100 100 100 100 100 100]\n",
      " [100 100 100 100 100 100]]\n",
      "type: <class 'numpy.ndarray'>\n",
      "shape: (4, 6), dimension: 2, dtype: int32\n",
      "numpy 배열에 저장된 데이터\n",
      " [[101 102 103 104 105 106]\n",
      " [107 108 109 110 111 112]\n",
      " [113 114 115 116 117 118]\n",
      " [119 120 121 122 123 124]]\n"
     ]
    }
   ],
   "source": [
    "# a + 100은 다음과 같은 과정을 거쳐서 처리 된다.\n",
    "# like를 쓰면 원본의 사이즈를 배껴 오잖아\n",
    "# 그래서 저렇게 사이즈가 맞지 않으면 like를 내부적으로 불러서 사이즈 맞추고\n",
    "# 그리고 더해지는 거다.\n",
    "new_arr = np.full_like(a, 100)\n",
    "pprint(new_arr)\n",
    "pprint(a+new_arr)"
   ]
  },
  {
   "cell_type": "code",
   "execution_count": 68,
   "id": "eafd607c",
   "metadata": {},
   "outputs": [
    {
     "name": "stdout",
     "output_type": "stream",
     "text": [
      "type: <class 'numpy.ndarray'>\n",
      "shape: (1, 5), dimension: 2, dtype: int32\n",
      "numpy 배열에 저장된 데이터\n",
      " [[0 1 2 3 4]]\n",
      "type: <class 'numpy.ndarray'>\n",
      "shape: (5, 1), dimension: 2, dtype: int32\n",
      "numpy 배열에 저장된 데이터\n",
      " [[0]\n",
      " [1]\n",
      " [2]\n",
      " [3]\n",
      " [4]]\n",
      "type: <class 'numpy.ndarray'>\n",
      "shape: (5, 5), dimension: 2, dtype: int32\n",
      "numpy 배열에 저장된 데이터\n",
      " [[0 1 2 3 4]\n",
      " [1 2 3 4 5]\n",
      " [2 3 4 5 6]\n",
      " [3 4 5 6 7]\n",
      " [4 5 6 7 8]]\n"
     ]
    }
   ],
   "source": [
    "# case 2 : shape이 다른 배열의 연산\n",
    "a= np.arange(5).reshape(1,5) # reshape을 안하면 보이게는 똑같아 보이지만, reshape을 하면 2차원이고, 안하면 1차원이다.\n",
    "pprint(a)\n",
    "b= np.arange(5).reshape(5,1)\n",
    "pprint(b)\n",
    "pprint(a+b)"
   ]
  },
  {
   "cell_type": "markdown",
   "id": "adeae10f",
   "metadata": {},
   "source": [
    "벡터 연산"
   ]
  },
  {
   "cell_type": "code",
   "execution_count": 69,
   "id": "754bd92d",
   "metadata": {},
   "outputs": [],
   "source": [
    "# 넘파이는 벡터 연산을 지원한다.\n",
    "# 넘파이의 집합 연산에서는 벡터화 기능이 적용되어 있어서 배열 처리에 대해 연산을 적용할 경우 속도가 100배이상 빠르다.\n",
    "# 머신러닝에서 선형대수 연산을 처리할 때 매우 높은 효과(효율)을 낼 수 있다.\n",
    "a = np.arange(1,10000001,dtype=np.int64)"
   ]
  },
  {
   "cell_type": "code",
   "execution_count": 75,
   "id": "d1f2d430",
   "metadata": {},
   "outputs": [
    {
     "name": "stdout",
     "output_type": "stream",
     "text": [
      "50000005000000\n",
      "Wall time: 5 s\n"
     ]
    }
   ],
   "source": [
    "%%time\n",
    "result = 0\n",
    "for i in a:\n",
    "    result += i\n",
    "print(result)\n",
    "# %%time 이거 주피터만 됨 시간재는거"
   ]
  },
  {
   "cell_type": "code",
   "execution_count": 78,
   "id": "c7cb91b5",
   "metadata": {},
   "outputs": [
    {
     "name": "stdout",
     "output_type": "stream",
     "text": [
      "50000005000000\n",
      "Wall time: 9.77 ms\n"
     ]
    }
   ],
   "source": [
    "%%time\n",
    "result = np.sum(a) # 넘파이 연산은 벡터화 시키고 해서 연산 속도가 매우 빠르다.\n",
    "print(result)"
   ]
  },
  {
   "cell_type": "markdown",
   "id": "8d4f2f02",
   "metadata": {},
   "source": [
    "배열 복사"
   ]
  },
  {
   "cell_type": "code",
   "execution_count": 79,
   "id": "fa235b2b",
   "metadata": {},
   "outputs": [],
   "source": [
    "# ndarray(넘파이로 만들어지는 배열 타입) 배열 객체에 대한 인덱싱, 슬라이싱(subset)이 반환하는 새로운 배열 객체가 아닌 원본 배열의 view이다.\n",
    "# 반환된 배열이 값을 변경하면 원본 배열에 변경한 내용이 반영된다. => 원본과 사본이 같은 메모리를 사용한다.\n",
    "# 따라서, 기본 배열로 부터 새로운 배열을 생성하기 위해서 copy() 함수를 사용한다.\n",
    "# copy() 함수로 복사한 배열은 원본 배열과 완전히 다른 별도의 객체가 된다."
   ]
  },
  {
   "cell_type": "code",
   "execution_count": 87,
   "id": "068d1b24",
   "metadata": {},
   "outputs": [
    {
     "name": "stdout",
     "output_type": "stream",
     "text": [
      "type: <class 'numpy.ndarray'>\n",
      "shape: (3, 3), dimension: 2, dtype: int32\n",
      "numpy 배열에 저장된 데이터\n",
      " [[0 5 6]\n",
      " [6 5 6]\n",
      " [4 7 3]]\n",
      "type: <class 'numpy.ndarray'>\n",
      "shape: (3,), dimension: 1, dtype: int32\n",
      "numpy 배열에 저장된 데이터\n",
      " [0 6 4]\n",
      "type: <class 'numpy.ndarray'>\n",
      "shape: (3,), dimension: 1, dtype: int32\n",
      "numpy 배열에 저장된 데이터\n",
      " [999 999 999]\n",
      "type: <class 'numpy.ndarray'>\n",
      "shape: (3, 3), dimension: 2, dtype: int32\n",
      "numpy 배열에 저장된 데이터\n",
      " [[0 5 6]\n",
      " [6 5 6]\n",
      " [4 7 3]]\n",
      "type: <class 'numpy.ndarray'>\n",
      "shape: (3, 3), dimension: 2, dtype: int32\n",
      "numpy 배열에 저장된 데이터\n",
      " [[999   5   6]\n",
      " [999   5   6]\n",
      " [999   7   3]]\n"
     ]
    }
   ],
   "source": [
    "a = np.random.randint(0,9,(3,3))\n",
    "pprint(a)\n",
    "\n",
    "# 2차원 배열 슬라이싱\n",
    "# 전체 행의 0번째 열\n",
    "pprint(a[:,0])\n",
    "\n",
    "b= a[:,0] # 이거 이렇게하면 배열 주소 공유한다.(같은 메모리 사용) 복사하는거 아님\n",
    "b =np.array([999,999,999]) # 이렇게 새로 만들면 공유하지 않고 새로운 배열을 가르킴 \n",
    "pprint(b)\n",
    "pprint(a)\n",
    "b= a[:,0]\n",
    "a[:,0] = 999\n",
    "pprint(a) # 슬라이싱만 바꿔도 배열이 바뀜 왜냐하면 슬라이싱을 새로 배열을 만드는게 아니라서 같은 메모리에 있는거를\n",
    "# 잘라서 보여주는거이기 때문에"
   ]
  },
  {
   "cell_type": "code",
   "execution_count": 92,
   "id": "8488e4cd",
   "metadata": {},
   "outputs": [
    {
     "name": "stdout",
     "output_type": "stream",
     "text": [
      "type: <class 'numpy.ndarray'>\n",
      "shape: (3, 3), dimension: 2, dtype: int32\n",
      "numpy 배열에 저장된 데이터\n",
      " [[999   5   6]\n",
      " [999   5   6]\n",
      " [999   7   3]]\n",
      "[5 5 7]\n",
      "[777 777 777]\n",
      "type: <class 'numpy.ndarray'>\n",
      "shape: (3, 3), dimension: 2, dtype: int32\n",
      "numpy 배열에 저장된 데이터\n",
      " [[999 777   6]\n",
      " [999 777   6]\n",
      " [999 777   3]]\n",
      "type: <class 'numpy.ndarray'>\n",
      "shape: (3, 3), dimension: 2, dtype: int32\n",
      "numpy 배열에 저장된 데이터\n",
      " [[999   5   6]\n",
      " [999   5   6]\n",
      " [999   7   3]]\n"
     ]
    }
   ],
   "source": [
    "copied_a = np.copy(a)\n",
    "pprint(copied_a)\n",
    "print(copied_a[:,1])\n",
    "copied_a[:,1] = 777\n",
    "print(copied_a[:,1])\n",
    "pprint(copied_a) # 복사본은 바뀌지만\n",
    "pprint(a) # 원본은 바뀌지 않음"
   ]
  },
  {
   "cell_type": "markdown",
   "id": "6c3906fa",
   "metadata": {},
   "source": [
    "배열 정렬"
   ]
  },
  {
   "cell_type": "code",
   "execution_count": 94,
   "id": "fafa0b76",
   "metadata": {},
   "outputs": [
    {
     "name": "stdout",
     "output_type": "stream",
     "text": [
      "type: <class 'numpy.ndarray'>\n",
      "shape: (3, 3), dimension: 2, dtype: float64\n",
      "numpy 배열에 저장된 데이터\n",
      " [[0.68654496 0.43893494 0.97772095]\n",
      " [0.47738415 0.23895263 0.93235066]\n",
      " [0.13671513 0.17192781 0.50305449]]\n"
     ]
    }
   ],
   "source": [
    "# ndarray 객체는 axis를 기준으로 요소를 정렬하는 sort() 함수를 제공한다.\n",
    "unsorted_arr = np.random.random((3,3))\n",
    "pprint(unsorted_arr)"
   ]
  },
  {
   "cell_type": "code",
   "execution_count": 95,
   "id": "767e33b8",
   "metadata": {},
   "outputs": [],
   "source": [
    "# sort 작업을 위해 원본을 복사한다.\n",
    "unsorted_arr1 = unsorted_arr.copy()\n",
    "unsorted_arr2 = unsorted_arr.copy()\n",
    "unsorted_arr3 = unsorted_arr.copy()"
   ]
  },
  {
   "cell_type": "code",
   "execution_count": 96,
   "id": "27e1294b",
   "metadata": {},
   "outputs": [
    {
     "name": "stdout",
     "output_type": "stream",
     "text": [
      "type: <class 'numpy.ndarray'>\n",
      "shape: (3, 3), dimension: 2, dtype: float64\n",
      "numpy 배열에 저장된 데이터\n",
      " [[0.43893494 0.68654496 0.97772095]\n",
      " [0.23895263 0.47738415 0.93235066]\n",
      " [0.13671513 0.17192781 0.50305449]]\n"
     ]
    }
   ],
   "source": [
    "# 배열객체.sort()\n",
    "# sort() 함수는 axis의 기본값이 None이 아니고 , -1이다.\n",
    "# -1은 현재 배열의 마지막 axis를 의미하고, 즉 2 차원 배열은 마지막 axis는 1이니까 axis = 1을 의미한다.\n",
    "# 배열객체.sort() 와 배열객체.sort(axis=-1) 와 배열객체.sort(axis=1)의 결과는 같다.\n",
    "\n",
    "# 전체 통으로 정렬하는건 없다!"
   ]
  },
  {
   "cell_type": "code",
   "execution_count": 98,
   "id": "dbbbab79",
   "metadata": {},
   "outputs": [
    {
     "name": "stdout",
     "output_type": "stream",
     "text": [
      "type: <class 'numpy.ndarray'>\n",
      "shape: (3, 3), dimension: 2, dtype: float64\n",
      "numpy 배열에 저장된 데이터\n",
      " [[0.43893494 0.68654496 0.97772095]\n",
      " [0.23895263 0.47738415 0.93235066]\n",
      " [0.13671513 0.17192781 0.50305449]]\n"
     ]
    }
   ],
   "source": [
    "# 이렇게 하면 행대로 정렬된다.\n",
    "unsorted_arr1.sort() \n",
    "pprint(unsorted_arr1)"
   ]
  },
  {
   "cell_type": "code",
   "execution_count": 99,
   "id": "8531bad4",
   "metadata": {},
   "outputs": [
    {
     "name": "stdout",
     "output_type": "stream",
     "text": [
      "type: <class 'numpy.ndarray'>\n",
      "shape: (3, 3), dimension: 2, dtype: float64\n",
      "numpy 배열에 저장된 데이터\n",
      " [[0.43893494 0.68654496 0.97772095]\n",
      " [0.23895263 0.47738415 0.93235066]\n",
      " [0.13671513 0.17192781 0.50305449]]\n"
     ]
    }
   ],
   "source": [
    "unsorted_arr2.sort(axis=-1) \n",
    "pprint(unsorted_arr2)"
   ]
  },
  {
   "cell_type": "code",
   "execution_count": 101,
   "id": "0d79c5a4",
   "metadata": {},
   "outputs": [
    {
     "name": "stdout",
     "output_type": "stream",
     "text": [
      "type: <class 'numpy.ndarray'>\n",
      "shape: (3, 3), dimension: 2, dtype: float64\n",
      "numpy 배열에 저장된 데이터\n",
      " [[0.43893494 0.68654496 0.97772095]\n",
      " [0.23895263 0.47738415 0.93235066]\n",
      " [0.13671513 0.17192781 0.50305449]]\n"
     ]
    }
   ],
   "source": [
    "unsorted_arr2.sort(axis=1) \n",
    "pprint(unsorted_arr2)"
   ]
  },
  {
   "cell_type": "code",
   "execution_count": 102,
   "id": "82746e14",
   "metadata": {},
   "outputs": [
    {
     "name": "stdout",
     "output_type": "stream",
     "text": [
      "type: <class 'numpy.ndarray'>\n",
      "shape: (3, 3), dimension: 2, dtype: float64\n",
      "numpy 배열에 저장된 데이터\n",
      " [[0.13671513 0.17192781 0.50305449]\n",
      " [0.23895263 0.47738415 0.93235066]\n",
      " [0.43893494 0.68654496 0.97772095]]\n"
     ]
    }
   ],
   "source": [
    "# 열대로 정렬한다.\n",
    "unsorted_arr1.sort(axis=0) \n",
    "pprint(unsorted_arr1)"
   ]
  },
  {
   "cell_type": "code",
   "execution_count": null,
   "id": "e5084b14",
   "metadata": {},
   "outputs": [],
   "source": []
  },
  {
   "cell_type": "code",
   "execution_count": null,
   "id": "297205b7",
   "metadata": {},
   "outputs": [],
   "source": []
  },
  {
   "cell_type": "code",
   "execution_count": null,
   "id": "2bae1cb6",
   "metadata": {},
   "outputs": [],
   "source": []
  }
 ],
 "metadata": {
  "kernelspec": {
   "display_name": "Python 3",
   "language": "python",
   "name": "python3"
  },
  "language_info": {
   "codemirror_mode": {
    "name": "ipython",
    "version": 3
   },
   "file_extension": ".py",
   "mimetype": "text/x-python",
   "name": "python",
   "nbconvert_exporter": "python",
   "pygments_lexer": "ipython3",
   "version": "3.6.8"
  }
 },
 "nbformat": 4,
 "nbformat_minor": 5
}
