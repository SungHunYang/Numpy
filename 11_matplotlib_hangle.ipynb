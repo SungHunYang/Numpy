{
 "cells": [
  {
   "cell_type": "code",
   "execution_count": 1,
   "id": "9565942b",
   "metadata": {},
   "outputs": [],
   "source": [
    "import warnings\n",
    "warnings.filterwarnings('ignore')\n",
    "from IPython.display import Image\n",
    "import numpy as np\n",
    "import pandas as pd\n",
    "import seaborn as sns"
   ]
  },
  {
   "cell_type": "code",
   "execution_count": 2,
   "id": "c39669cd",
   "metadata": {},
   "outputs": [],
   "source": [
    "import matplotlib.pyplot as plt # 그래프\n",
    "import matplotlib as mpl\n",
    "import matplotlib.font_manager as fm\n",
    "# 한글 폰트를 사용할 때 마이너스 데이터가 깨져 보이는 문제를 해결한다.\n",
    "mpl.rcParams['axes.unicode_minus'] = False "
   ]
  },
  {
   "cell_type": "code",
   "execution_count": 4,
   "id": "9acc627e",
   "metadata": {},
   "outputs": [
    {
     "data": {
      "text/plain": [
       "array([ -87,    0,   30,  114,   35,   88,  106,  164,   96,  111,   37,\n",
       "        130,   78,    2,  -20,   79,  147,  159,  241,  179,  107,  104,\n",
       "         28,   93,   20,  -57,  -84, -172, -211, -186,  -97, -174, -224,\n",
       "       -140,  -67,  -41,  -74, -140, -196, -276, -278, -197, -118, -104,\n",
       "       -125, -157, -128, -140, -207, -256], dtype=int32)"
      ]
     },
     "execution_count": 4,
     "metadata": {},
     "output_type": "execute_result"
    }
   ],
   "source": [
    "# 그래프를 그리기 위해 더미 데이터를 만든다.\n",
    "data = np.random.randint(-100,100,50).cumsum() # 누적합계 구하는것\n",
    "data"
   ]
  },
  {
   "cell_type": "code",
   "execution_count": null,
   "id": "0fec6f1b",
   "metadata": {},
   "outputs": [],
   "source": []
  },
  {
   "cell_type": "code",
   "execution_count": null,
   "id": "22a71f04",
   "metadata": {},
   "outputs": [],
   "source": []
  }
 ],
 "metadata": {
  "kernelspec": {
   "display_name": "Python 3",
   "language": "python",
   "name": "python3"
  },
  "language_info": {
   "codemirror_mode": {
    "name": "ipython",
    "version": 3
   },
   "file_extension": ".py",
   "mimetype": "text/x-python",
   "name": "python",
   "nbconvert_exporter": "python",
   "pygments_lexer": "ipython3",
   "version": "3.6.8"
  }
 },
 "nbformat": 4,
 "nbformat_minor": 5
}
