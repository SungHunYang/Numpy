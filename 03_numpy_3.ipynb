{
 "cells": [
  {
   "cell_type": "code",
   "execution_count": 1,
   "id": "aed5aa51",
   "metadata": {},
   "outputs": [],
   "source": [
    "import warnings\n",
    "warnings.filterwarnings('ignore')\n",
    "from IPython.display import Image\n",
    "import numpy as np\n",
    "\n",
    "def pprint(arr):\n",
    "    print('type: {}'.format(type(arr)))\n",
    "    print('shape: {}, dimension: {}, dtype: {}'.format(arr.shape,arr.ndim,arr.dtype))\n",
    "    print('numpy 배열에 저장된 데이터\\n',arr)"
   ]
  },
  {
   "cell_type": "markdown",
   "id": "8e99116b",
   "metadata": {},
   "source": [
    "인덱싱"
   ]
  },
  {
   "cell_type": "code",
   "execution_count": 2,
   "id": "e4d49964",
   "metadata": {},
   "outputs": [],
   "source": [
    "# 배열의 각 요소는 axis 인덱스로 참조할 수 있다.\n",
    "# 1차원 배열은 1개의 인덱스, 2차원 배열은 2개의 인덱스, 3차원 배열은 3개의 인덱스 로 참조할 수 있다.\n",
    "# 인덱싱 작업시 [행][열]과 같이 인덱스를 지정하거나 [행,열]과 같이 인덱스를 지정할 수 있다."
   ]
  },
  {
   "cell_type": "code",
   "execution_count": 3,
   "id": "8f504c4a",
   "metadata": {},
   "outputs": [
    {
     "name": "stdout",
     "output_type": "stream",
     "text": [
      "type: <class 'numpy.ndarray'>\n",
      "shape: (24,), dimension: 1, dtype: int32\n",
      "numpy 배열에 저장된 데이터\n",
      " [ 0  1  2  3  4  5  6  7  8  9 10 11 12 13 14 15 16 17 18 19 20 21 22 23]\n",
      "5\n",
      "type: <class 'numpy.ndarray'>\n",
      "shape: (24,), dimension: 1, dtype: int32\n",
      "numpy 배열에 저장된 데이터\n",
      " [  0   1   2   3   4 100   6   7   8   9  10  11  12  13  14  15  16  17\n",
      "  18  19  20  21  22  23]\n"
     ]
    }
   ],
   "source": [
    "a = np.arange(24)\n",
    "pprint(a)\n",
    "# 1차원 배열 요소 참조 및 변경\n",
    "print(a[5])\n",
    "a[5] = 100\n",
    "pprint(a)"
   ]
  },
  {
   "cell_type": "code",
   "execution_count": 4,
   "id": "febb3784",
   "metadata": {},
   "outputs": [
    {
     "name": "stdout",
     "output_type": "stream",
     "text": [
      "type: <class 'numpy.ndarray'>\n",
      "shape: (4, 6), dimension: 2, dtype: int32\n",
      "numpy 배열에 저장된 데이터\n",
      " [[ 0  1  2  3  4  5]\n",
      " [ 6  7  8  9 10 11]\n",
      " [12 13 14 15 16 17]\n",
      " [18 19 20 21 22 23]]\n",
      "1\n",
      "1\n",
      "type: <class 'numpy.ndarray'>\n",
      "shape: (4, 6), dimension: 2, dtype: int32\n",
      "numpy 배열에 저장된 데이터\n",
      " [[   0 1000    2    3    4    5]\n",
      " [   6    7    8    9   10   11]\n",
      " [  12   13   14   15   16   17]\n",
      " [  18   19   20   21   22   23]]\n",
      "type: <class 'numpy.ndarray'>\n",
      "shape: (4, 6), dimension: 2, dtype: int32\n",
      "numpy 배열에 저장된 데이터\n",
      " [[   0 1000    2    3    4    5]\n",
      " [   6    7    8    9   10   11]\n",
      " [  12   13   14   15 3333   17]\n",
      " [  18   19   20   21   22   23]]\n"
     ]
    }
   ],
   "source": [
    "# 2차원 배열\n",
    "a=np.arange(24).reshape(4,6)\n",
    "pprint(a)\n",
    "# 2차원 배열 요소 참조 및 변경\n",
    "print(a[0][1])\n",
    "print(a[0, 1])\n",
    "a[0][1] = 1000\n",
    "pprint(a)\n",
    "a[2][4] = 3333\n",
    "pprint(a)"
   ]
  },
  {
   "cell_type": "code",
   "execution_count": 5,
   "id": "430946ca",
   "metadata": {},
   "outputs": [
    {
     "name": "stdout",
     "output_type": "stream",
     "text": [
      "type: <class 'numpy.ndarray'>\n",
      "shape: (2, 4, 3), dimension: 3, dtype: int32\n",
      "numpy 배열에 저장된 데이터\n",
      " [[[ 0  1  2]\n",
      "  [ 3  4  5]\n",
      "  [ 6  7  8]\n",
      "  [ 9 10 11]]\n",
      "\n",
      " [[12 13 14]\n",
      "  [15 16 17]\n",
      "  [18 19 20]\n",
      "  [21 22 23]]]\n",
      "7\n",
      "17\n",
      "type: <class 'numpy.ndarray'>\n",
      "shape: (2, 4, 3), dimension: 3, dtype: int32\n",
      "numpy 배열에 저장된 데이터\n",
      " [[[  0   1   2]\n",
      "  [  3   4   5]\n",
      "  [  6 777   8]\n",
      "  [  9  10  11]]\n",
      "\n",
      " [[ 12  13  14]\n",
      "  [ 15  16 888]\n",
      "  [ 18  19  20]\n",
      "  [ 21  22  23]]]\n"
     ]
    }
   ],
   "source": [
    "# 3차원 배열\n",
    "a=np.arange(24).reshape(2,4,3)\n",
    "pprint(a)\n",
    "# 3차원 배열 요소 참조 및 변경\n",
    "print(a[0][2][1])\n",
    "print(a[1,1,2])\n",
    "a[0][2][1]=777\n",
    "a[1,1,2]= 888\n",
    "pprint(a)"
   ]
  },
  {
   "cell_type": "markdown",
   "id": "4e5e7971",
   "metadata": {},
   "source": [
    "슬라이싱"
   ]
  },
  {
   "cell_type": "code",
   "execution_count": 6,
   "id": "908b2936",
   "metadata": {},
   "outputs": [
    {
     "name": "stdout",
     "output_type": "stream",
     "text": [
      "[ 0  1  2  3  4  5  6  7  8  9 10 11 12 13 14 15 16 17 18 19 20 21 22 23]\n",
      "[2 3 4 5]\n",
      "[0 1 2 3 4 5]\n",
      "[ 2  3  4  5  6  7  8  9 10 11 12 13 14 15 16 17 18 19 20 21 22 23]\n",
      "[ 0  1  2  3  4  5  6  7  8  9 10 11 12 13 14 15 16 17 18 19 20 21 22 23]\n",
      "[ 0  2  4  6  8 10 12 14 16 18 20 22]\n",
      "[23 22 21 20 19 18 17 16 15 14 13 12 11 10  9  8  7  6  5  4  3  2  1  0]\n"
     ]
    }
   ],
   "source": [
    "# 1차원 배열 슬라이싱\n",
    "a = np.arange(24)\n",
    "print(a)\n",
    "print(a[2:6])\n",
    "print(a[:6])\n",
    "print(a[2:])\n",
    "print(a[:])\n",
    "print(a[::2])\n",
    "print(a[::-1]) # 반대로"
   ]
  },
  {
   "cell_type": "code",
   "execution_count": 7,
   "id": "32d2c2db",
   "metadata": {},
   "outputs": [
    {
     "name": "stdout",
     "output_type": "stream",
     "text": [
      "type: <class 'numpy.ndarray'>\n",
      "shape: (4, 6), dimension: 2, dtype: int32\n",
      "numpy 배열에 저장된 데이터\n",
      " [[ 1  2  3  4  5  6]\n",
      " [ 7  8  9 10 11 12]\n",
      " [13 14 15 16 17 18]\n",
      " [19 20 21 22 23 24]]\n"
     ]
    }
   ],
   "source": [
    "# 2차원 배열 슬라이싱\n",
    "b=np.arange(1,25).reshape(4,6)\n",
    "pprint(b)"
   ]
  },
  {
   "cell_type": "code",
   "execution_count": 8,
   "id": "c1a781d2",
   "metadata": {},
   "outputs": [
    {
     "name": "stdout",
     "output_type": "stream",
     "text": [
      "type: <class 'numpy.ndarray'>\n",
      "shape: (2, 6), dimension: 2, dtype: int32\n",
      "numpy 배열에 저장된 데이터\n",
      " [[ 7  8  9 10 11 12]\n",
      " [13 14 15 16 17 18]]\n",
      "type: <class 'numpy.ndarray'>\n",
      "shape: (4, 4), dimension: 2, dtype: int32\n",
      "numpy 배열에 저장된 데이터\n",
      " [[ 2  3  4  5]\n",
      " [ 8  9 10 11]\n",
      " [14 15 16 17]\n",
      " [20 21 22 23]]\n",
      "type: <class 'numpy.ndarray'>\n",
      "shape: (2, 4), dimension: 2, dtype: int32\n",
      "numpy 배열에 저장된 데이터\n",
      " [[ 8  9 10 11]\n",
      " [14 15 16 17]]\n"
     ]
    }
   ],
   "source": [
    "# 2차원 배열을 슬라이싱 할 때 행과 열 모두 슬라이싱 하려면 [] 내부에 행과 열을 모두 적어주어야 한다.\n",
    "# b[1:3][1:5] 이런식으로 따로따로 하면 안된다는 뜻이다.\n",
    "# 슬라이싱 작업시 []를 연속해서 사용하면 앞의 슬라이싱 결과를 가져와 뒤의 슬라이싱을 한다.\n",
    "# 각각 따로 슬라이싱 한다는 뜻이다. 즉 행단위를 2번하는 결과가 나오게 된다.\n",
    "# 따라서 [행,열]과 같은 방식을 사용해야 한다.  \n",
    "\n",
    "pprint(b[1:3]) # 행만 슬라이싱 -> 행 단위로 슬라이싱 하려면 열을 생략한다.\n",
    "pprint(b[:,1:5]) # 열만 슬라이싱 -> 열 단위로 슬라이싱 하려면 행을 생략한다. \n",
    "                    # -> 행에 행전체를 뜻하는':'을 써야한다. -> 행단위 슬라이싱과 구분하기 위해서\n",
    "pprint(b[1:3,1:5]) # 전체 슬라이싱"
   ]
  },
  {
   "cell_type": "code",
   "execution_count": 9,
   "id": "fd241c36",
   "metadata": {},
   "outputs": [
    {
     "name": "stdout",
     "output_type": "stream",
     "text": [
      "type: <class 'numpy.ndarray'>\n",
      "shape: (2, 4), dimension: 2, dtype: int32\n",
      "numpy 배열에 저장된 데이터\n",
      " [[ 8  9 10 11]\n",
      " [14 15 16 17]]\n"
     ]
    }
   ],
   "source": [
    "# 슬라이싱에 음수 값이 있을 때는 음수값의 위치를 직접 찾고 하는게 이해하기 좋다.\n",
    "# 음수 인덱싱을 이용한 범위 설정\n",
    "# 음수 인덱스는 지정한 axis의 마지막 요소로부터 반대 방향의 인덱스이고 -1은 마지막 요소의 인덱스를 의미한다.\n",
    "pprint(b[1:-1, 1:-1])"
   ]
  },
  {
   "cell_type": "code",
   "execution_count": 10,
   "id": "64379340",
   "metadata": {},
   "outputs": [
    {
     "name": "stdout",
     "output_type": "stream",
     "text": [
      "type: <class 'numpy.ndarray'>\n",
      "shape: (4, 6), dimension: 2, dtype: int32\n",
      "numpy 배열에 저장된 데이터\n",
      " [[ 1  2  3  4  5  6]\n",
      " [ 7  8  9 10 11 12]\n",
      " [13 14 15 16 17 18]\n",
      " [19 20 21 22 23 24]]\n",
      "type: <class 'numpy.ndarray'>\n",
      "shape: (2, 4), dimension: 2, dtype: int32\n",
      "numpy 배열에 저장된 데이터\n",
      " [[ 8  9 10 11]\n",
      " [14 15 16 17]]\n",
      "type: <class 'numpy.ndarray'>\n",
      "shape: (2, 2), dimension: 2, dtype: int32\n",
      "numpy 배열에 저장된 데이터\n",
      " [[ 9 10]\n",
      " [15 16]]\n",
      "type: <class 'numpy.ndarray'>\n",
      "shape: (2, 4), dimension: 2, dtype: int32\n",
      "numpy 배열에 저장된 데이터\n",
      " [[   8 9999 9999   11]\n",
      " [  14 9999 9999   17]]\n"
     ]
    }
   ],
   "source": [
    "# 슬라이싱을 이용한 데이터 수정\n",
    "pprint(b)\n",
    "slide_arr = b[1:3, 1:5]\n",
    "pprint(slide_arr)\n",
    "pprint(slide_arr[:,1:3])\n",
    "# 슬라이싱의 결과는 원본의 view이므로 슬라이싱 결과를 수정하면 원본이 바뀌지 않는다\n",
    "slide_arr[:,1:3]=9999\n",
    "pprint(slide_arr)"
   ]
  },
  {
   "cell_type": "markdown",
   "id": "53547146",
   "metadata": {},
   "source": [
    "불린 인덱싱 => 전체 데이터에서 특정 조건에 만족하는 데이터를 추출할 경우 많이 사용된다.  \n",
    "넘파이의 불린 인덱싱은 각 배열 요소 선택 여부를 True, False로 지정하는 방식이다 => True를 선택한다."
   ]
  },
  {
   "cell_type": "code",
   "execution_count": 11,
   "id": "ad38b4d1",
   "metadata": {},
   "outputs": [
    {
     "name": "stdout",
     "output_type": "stream",
     "text": [
      "type: <class 'numpy.ndarray'>\n",
      "shape: (4, 6), dimension: 2, dtype: int32\n",
      "numpy 배열에 저장된 데이터\n",
      " [[ 1  2  3  4  5  6]\n",
      " [ 7  8  9 10 11 12]\n",
      " [13 14 15 16 17 18]\n",
      " [19 20 21 22 23 24]]\n"
     ]
    }
   ],
   "source": [
    "a=np.arange(1,25).reshape(4,6)\n",
    "pprint(a)"
   ]
  },
  {
   "cell_type": "code",
   "execution_count": 12,
   "id": "350b11b9",
   "metadata": {},
   "outputs": [
    {
     "name": "stdout",
     "output_type": "stream",
     "text": [
      "[[1 0 1 0 1 0]\n",
      " [1 0 1 0 1 0]\n",
      " [1 0 1 0 1 0]\n",
      " [1 0 1 0 1 0]]\n",
      "[[False  True False  True False  True]\n",
      " [False  True False  True False  True]\n",
      " [False  True False  True False  True]\n",
      " [False  True False  True False  True]]\n"
     ]
    }
   ],
   "source": [
    "# a 배열에서 요소의 값이 짝수인 요소의 총 합계\n",
    "even_arr = a % 2  # <= 브로드캐스팅 arr = a +100 이랑 같은거다.\n",
    "print(even_arr)\n",
    "even_arr1 = a % 2 == 0 # <= 얘는 조건식 까지 브로드캐스팅 했으므로 boolean 타입이 된다.\n",
    "print(even_arr1)"
   ]
  },
  {
   "cell_type": "code",
   "execution_count": 13,
   "id": "abb0faed",
   "metadata": {},
   "outputs": [
    {
     "name": "stdout",
     "output_type": "stream",
     "text": [
      "[ 2  4  6  8 10 12 14 16 18 20 22 24]\n",
      "[ 2  4  6  8 10 12 14 16 18 20 22 24]\n"
     ]
    }
   ],
   "source": [
    "# 브로드캐스팅을 통한 불린 인덱싱 => True인것만 추출\n",
    "print(a[even_arr1])\n",
    "print(a[a % 2 == 0])"
   ]
  },
  {
   "cell_type": "code",
   "execution_count": 14,
   "id": "15635450",
   "metadata": {},
   "outputs": [
    {
     "name": "stdout",
     "output_type": "stream",
     "text": [
      "156\n",
      "144\n"
     ]
    }
   ],
   "source": [
    "print(a[even_arr1].sum())\n",
    "print(a[a%2!=0].sum())"
   ]
  },
  {
   "cell_type": "markdown",
   "id": "8d8e6d09",
   "metadata": {},
   "source": [
    "불린 인덱싱 응용"
   ]
  },
  {
   "cell_type": "code",
   "execution_count": 15,
   "id": "14401c68",
   "metadata": {},
   "outputs": [
    {
     "data": {
      "text/html": [
       "<div>\n",
       "<style scoped>\n",
       "    .dataframe tbody tr th:only-of-type {\n",
       "        vertical-align: middle;\n",
       "    }\n",
       "\n",
       "    .dataframe tbody tr th {\n",
       "        vertical-align: top;\n",
       "    }\n",
       "\n",
       "    .dataframe thead th {\n",
       "        text-align: right;\n",
       "    }\n",
       "</style>\n",
       "<table border=\"1\" class=\"dataframe\">\n",
       "  <thead>\n",
       "    <tr style=\"text-align: right;\">\n",
       "      <th></th>\n",
       "      <th>STATION</th>\n",
       "      <th>STATION_NAME</th>\n",
       "      <th>DATE</th>\n",
       "      <th>PRCP</th>\n",
       "      <th>SNWD</th>\n",
       "      <th>SNOW</th>\n",
       "      <th>TMAX</th>\n",
       "      <th>TMIN</th>\n",
       "      <th>AWND</th>\n",
       "      <th>WDF2</th>\n",
       "      <th>WDF5</th>\n",
       "      <th>WSF2</th>\n",
       "      <th>WSF5</th>\n",
       "      <th>WT01</th>\n",
       "      <th>WT05</th>\n",
       "      <th>WT02</th>\n",
       "      <th>WT03</th>\n",
       "    </tr>\n",
       "  </thead>\n",
       "  <tbody>\n",
       "    <tr>\n",
       "      <th>0</th>\n",
       "      <td>GHCND:USW00024233</td>\n",
       "      <td>SEATTLE TACOMA INTERNATIONAL AIRPORT WA US</td>\n",
       "      <td>20140101</td>\n",
       "      <td>0</td>\n",
       "      <td>0</td>\n",
       "      <td>0</td>\n",
       "      <td>72</td>\n",
       "      <td>33</td>\n",
       "      <td>12</td>\n",
       "      <td>340</td>\n",
       "      <td>310</td>\n",
       "      <td>36</td>\n",
       "      <td>40</td>\n",
       "      <td>-9999</td>\n",
       "      <td>-9999</td>\n",
       "      <td>-9999</td>\n",
       "      <td>-9999</td>\n",
       "    </tr>\n",
       "    <tr>\n",
       "      <th>1</th>\n",
       "      <td>GHCND:USW00024233</td>\n",
       "      <td>SEATTLE TACOMA INTERNATIONAL AIRPORT WA US</td>\n",
       "      <td>20140102</td>\n",
       "      <td>41</td>\n",
       "      <td>0</td>\n",
       "      <td>0</td>\n",
       "      <td>106</td>\n",
       "      <td>61</td>\n",
       "      <td>32</td>\n",
       "      <td>190</td>\n",
       "      <td>200</td>\n",
       "      <td>94</td>\n",
       "      <td>116</td>\n",
       "      <td>-9999</td>\n",
       "      <td>-9999</td>\n",
       "      <td>-9999</td>\n",
       "      <td>-9999</td>\n",
       "    </tr>\n",
       "    <tr>\n",
       "      <th>2</th>\n",
       "      <td>GHCND:USW00024233</td>\n",
       "      <td>SEATTLE TACOMA INTERNATIONAL AIRPORT WA US</td>\n",
       "      <td>20140103</td>\n",
       "      <td>15</td>\n",
       "      <td>0</td>\n",
       "      <td>0</td>\n",
       "      <td>89</td>\n",
       "      <td>28</td>\n",
       "      <td>26</td>\n",
       "      <td>30</td>\n",
       "      <td>50</td>\n",
       "      <td>63</td>\n",
       "      <td>72</td>\n",
       "      <td>1</td>\n",
       "      <td>-9999</td>\n",
       "      <td>-9999</td>\n",
       "      <td>-9999</td>\n",
       "    </tr>\n",
       "    <tr>\n",
       "      <th>3</th>\n",
       "      <td>GHCND:USW00024233</td>\n",
       "      <td>SEATTLE TACOMA INTERNATIONAL AIRPORT WA US</td>\n",
       "      <td>20140104</td>\n",
       "      <td>0</td>\n",
       "      <td>0</td>\n",
       "      <td>0</td>\n",
       "      <td>78</td>\n",
       "      <td>6</td>\n",
       "      <td>27</td>\n",
       "      <td>40</td>\n",
       "      <td>40</td>\n",
       "      <td>45</td>\n",
       "      <td>58</td>\n",
       "      <td>1</td>\n",
       "      <td>-9999</td>\n",
       "      <td>-9999</td>\n",
       "      <td>-9999</td>\n",
       "    </tr>\n",
       "    <tr>\n",
       "      <th>4</th>\n",
       "      <td>GHCND:USW00024233</td>\n",
       "      <td>SEATTLE TACOMA INTERNATIONAL AIRPORT WA US</td>\n",
       "      <td>20140105</td>\n",
       "      <td>0</td>\n",
       "      <td>0</td>\n",
       "      <td>0</td>\n",
       "      <td>83</td>\n",
       "      <td>-5</td>\n",
       "      <td>37</td>\n",
       "      <td>10</td>\n",
       "      <td>10</td>\n",
       "      <td>67</td>\n",
       "      <td>76</td>\n",
       "      <td>-9999</td>\n",
       "      <td>-9999</td>\n",
       "      <td>-9999</td>\n",
       "      <td>-9999</td>\n",
       "    </tr>\n",
       "    <tr>\n",
       "      <th>5</th>\n",
       "      <td>GHCND:USW00024233</td>\n",
       "      <td>SEATTLE TACOMA INTERNATIONAL AIRPORT WA US</td>\n",
       "      <td>20140106</td>\n",
       "      <td>3</td>\n",
       "      <td>0</td>\n",
       "      <td>0</td>\n",
       "      <td>78</td>\n",
       "      <td>-5</td>\n",
       "      <td>26</td>\n",
       "      <td>210</td>\n",
       "      <td>210</td>\n",
       "      <td>112</td>\n",
       "      <td>125</td>\n",
       "      <td>1</td>\n",
       "      <td>-9999</td>\n",
       "      <td>-9999</td>\n",
       "      <td>-9999</td>\n",
       "    </tr>\n",
       "    <tr>\n",
       "      <th>6</th>\n",
       "      <td>GHCND:USW00024233</td>\n",
       "      <td>SEATTLE TACOMA INTERNATIONAL AIRPORT WA US</td>\n",
       "      <td>20140107</td>\n",
       "      <td>122</td>\n",
       "      <td>0</td>\n",
       "      <td>0</td>\n",
       "      <td>83</td>\n",
       "      <td>50</td>\n",
       "      <td>16</td>\n",
       "      <td>160</td>\n",
       "      <td>150</td>\n",
       "      <td>45</td>\n",
       "      <td>54</td>\n",
       "      <td>-9999</td>\n",
       "      <td>-9999</td>\n",
       "      <td>-9999</td>\n",
       "      <td>-9999</td>\n",
       "    </tr>\n",
       "    <tr>\n",
       "      <th>7</th>\n",
       "      <td>GHCND:USW00024233</td>\n",
       "      <td>SEATTLE TACOMA INTERNATIONAL AIRPORT WA US</td>\n",
       "      <td>20140108</td>\n",
       "      <td>97</td>\n",
       "      <td>0</td>\n",
       "      <td>0</td>\n",
       "      <td>100</td>\n",
       "      <td>72</td>\n",
       "      <td>46</td>\n",
       "      <td>180</td>\n",
       "      <td>180</td>\n",
       "      <td>107</td>\n",
       "      <td>143</td>\n",
       "      <td>1</td>\n",
       "      <td>-9999</td>\n",
       "      <td>-9999</td>\n",
       "      <td>-9999</td>\n",
       "    </tr>\n",
       "    <tr>\n",
       "      <th>8</th>\n",
       "      <td>GHCND:USW00024233</td>\n",
       "      <td>SEATTLE TACOMA INTERNATIONAL AIRPORT WA US</td>\n",
       "      <td>20140109</td>\n",
       "      <td>58</td>\n",
       "      <td>0</td>\n",
       "      <td>0</td>\n",
       "      <td>94</td>\n",
       "      <td>56</td>\n",
       "      <td>63</td>\n",
       "      <td>210</td>\n",
       "      <td>230</td>\n",
       "      <td>143</td>\n",
       "      <td>183</td>\n",
       "      <td>1</td>\n",
       "      <td>-9999</td>\n",
       "      <td>-9999</td>\n",
       "      <td>-9999</td>\n",
       "    </tr>\n",
       "    <tr>\n",
       "      <th>9</th>\n",
       "      <td>GHCND:USW00024233</td>\n",
       "      <td>SEATTLE TACOMA INTERNATIONAL AIRPORT WA US</td>\n",
       "      <td>20140110</td>\n",
       "      <td>43</td>\n",
       "      <td>0</td>\n",
       "      <td>0</td>\n",
       "      <td>128</td>\n",
       "      <td>83</td>\n",
       "      <td>70</td>\n",
       "      <td>200</td>\n",
       "      <td>200</td>\n",
       "      <td>134</td>\n",
       "      <td>183</td>\n",
       "      <td>-9999</td>\n",
       "      <td>-9999</td>\n",
       "      <td>-9999</td>\n",
       "      <td>-9999</td>\n",
       "    </tr>\n",
       "  </tbody>\n",
       "</table>\n",
       "</div>"
      ],
      "text/plain": [
       "             STATION                                STATION_NAME      DATE  \\\n",
       "0  GHCND:USW00024233  SEATTLE TACOMA INTERNATIONAL AIRPORT WA US  20140101   \n",
       "1  GHCND:USW00024233  SEATTLE TACOMA INTERNATIONAL AIRPORT WA US  20140102   \n",
       "2  GHCND:USW00024233  SEATTLE TACOMA INTERNATIONAL AIRPORT WA US  20140103   \n",
       "3  GHCND:USW00024233  SEATTLE TACOMA INTERNATIONAL AIRPORT WA US  20140104   \n",
       "4  GHCND:USW00024233  SEATTLE TACOMA INTERNATIONAL AIRPORT WA US  20140105   \n",
       "5  GHCND:USW00024233  SEATTLE TACOMA INTERNATIONAL AIRPORT WA US  20140106   \n",
       "6  GHCND:USW00024233  SEATTLE TACOMA INTERNATIONAL AIRPORT WA US  20140107   \n",
       "7  GHCND:USW00024233  SEATTLE TACOMA INTERNATIONAL AIRPORT WA US  20140108   \n",
       "8  GHCND:USW00024233  SEATTLE TACOMA INTERNATIONAL AIRPORT WA US  20140109   \n",
       "9  GHCND:USW00024233  SEATTLE TACOMA INTERNATIONAL AIRPORT WA US  20140110   \n",
       "\n",
       "   PRCP  SNWD  SNOW  TMAX  TMIN  AWND  WDF2  WDF5  WSF2  WSF5  WT01  WT05  \\\n",
       "0     0     0     0    72    33    12   340   310    36    40 -9999 -9999   \n",
       "1    41     0     0   106    61    32   190   200    94   116 -9999 -9999   \n",
       "2    15     0     0    89    28    26    30    50    63    72     1 -9999   \n",
       "3     0     0     0    78     6    27    40    40    45    58     1 -9999   \n",
       "4     0     0     0    83    -5    37    10    10    67    76 -9999 -9999   \n",
       "5     3     0     0    78    -5    26   210   210   112   125     1 -9999   \n",
       "6   122     0     0    83    50    16   160   150    45    54 -9999 -9999   \n",
       "7    97     0     0   100    72    46   180   180   107   143     1 -9999   \n",
       "8    58     0     0    94    56    63   210   230   143   183     1 -9999   \n",
       "9    43     0     0   128    83    70   200   200   134   183 -9999 -9999   \n",
       "\n",
       "   WT02  WT03  \n",
       "0 -9999 -9999  \n",
       "1 -9999 -9999  \n",
       "2 -9999 -9999  \n",
       "3 -9999 -9999  \n",
       "4 -9999 -9999  \n",
       "5 -9999 -9999  \n",
       "6 -9999 -9999  \n",
       "7 -9999 -9999  \n",
       "8 -9999 -9999  \n",
       "9 -9999 -9999  "
      ]
     },
     "execution_count": 15,
     "metadata": {},
     "output_type": "execute_result"
    }
   ],
   "source": [
    "# pandas\n",
    "import pandas as pd\n",
    "# 데이터 파일 => 2014년 시애틀 강수량 데이터 => ./data/Seattle2014.csv\n",
    "df=pd.read_csv('data/Seattle2014.csv')\n",
    "df.head(10)"
   ]
  },
  {
   "cell_type": "code",
   "execution_count": 16,
   "id": "6c5f9da4",
   "metadata": {},
   "outputs": [
    {
     "name": "stdout",
     "output_type": "stream",
     "text": [
      "<class 'numpy.ndarray'>\n",
      "(365,)\n",
      "1\n",
      "[  0  41  15   0   0   3 122  97  58  43 213  15   0   0   0   0   0   0\n",
      "   0   0   0   5   0   0   0   0   0  89 216   0  23  20   0   0   0   0\n",
      "   0   0  51   5 183 170  46  18  94 117 264 145 152  10  30  28  25  61\n",
      " 130   3   0   0   0   5 191 107 165 467  30   0 323  43 188   0   0   5\n",
      "  69  81 277   3   0   5   0   0   0   0   0  41  36   3 221 140   0   0\n",
      "   0   0  25   0  46   0   0  46   0   0   0   0   0   0   5 109 185   0\n",
      " 137   0  51 142  89 124   0  33  69   0   0   0   0   0 333 160  51   0\n",
      "   0 137  20   5   0   0   0   0   0   0   0   0   0   0   0   0  38   0\n",
      "  56   0   0   0   0   0   0   0   0   0   0   0   0   0   0   0   0   0\n",
      "  18  64   0   5  36  13   0   8   3   0   0   0   0   0   0  18  23   0\n",
      "   0   0   0   0   0   0   0   0   0   0   0   0   0   0   0   0   0   0\n",
      "   0   0   0   0   3 193   0   0   0   0   0   0   0   0   0   5   0   0\n",
      "   0   0   0   0   0   0   5 127 216   0  10   0   0   0   0   0   0   0\n",
      "   0   0   0   0   0   0   0  84  13   0  30   0   0   0   0   0   0   0\n",
      "   0   0   0   0   0   0   0   5   3   0   0   0   3 183 203  43  89   0\n",
      "   0   8   0   0   0   0   0   0   0   0   0   0   3  74   0  76  71  86\n",
      "   0  33 150   0 117  10 320  94  41  61  15   8 127   5 254 170   0  18\n",
      " 109  41  48  41   0   0  51   0   0   0   0   0   0   0   0   0   0  36\n",
      " 152   5 119  13 183   3  33 343  36   0   0   0   0   8  30  74   0  91\n",
      "  99 130  69   0   0   0   0   0  28 130  30 196   0   0 206  53   0   0\n",
      "  33  41   0   0   0]\n",
      "Data size : 365\n",
      "Data size : 365\n"
     ]
    }
   ],
   "source": [
    "# 2014년 시애틀 강수량 데이터의 강수량 열(PRCP)의 데이터만 추출한다.\n",
    "rain_arr = df['PRCP'].values # pandas Series 데이터에 values 속성을 지정하면 넘파이 배열로 변환된다.\n",
    "print(type(rain_arr))\n",
    "print(rain_arr.shape)\n",
    "print(rain_arr.ndim)\n",
    "print(rain_arr)\n",
    "print('Data size : {}'.format(len(rain_arr)))\n",
    "print('Data size : {}'.format(rain_arr.size)) # 위에랑 같은거"
   ]
  },
  {
   "cell_type": "code",
   "execution_count": 17,
   "id": "27eb9b22",
   "metadata": {},
   "outputs": [
    {
     "name": "stdout",
     "output_type": "stream",
     "text": [
      "[ True  True  True  True  True  True  True  True  True  True  True  True\n",
      "  True  True  True  True  True  True  True  True  True  True  True  True\n",
      "  True  True  True  True  True  True  True False False False False False\n",
      " False False False False False False False False False False False False\n",
      " False False False False False False False False False False False False\n",
      " False False False False False False False False False False False False\n",
      " False False False False False False False False False False False False\n",
      " False False False False False False False False False False False False\n",
      " False False False False False False False False False False False False\n",
      " False False False False False False False False False False False False\n",
      " False False False False False False False False False False False False\n",
      " False False False False False False False False False False False False\n",
      " False False False False False False False False False False False False\n",
      " False False False False False False False False False False False False\n",
      " False False False False False False False False False False False False\n",
      " False False False False False False False False False False False False\n",
      " False False False False False False False False False False False False\n",
      " False False False False False False False False False False False False\n",
      " False False False False False False False False False False False False\n",
      " False False False False False False False False False False False False\n",
      " False False False False False False False False False False False False\n",
      " False False False False False False False False False False False False\n",
      " False False False False False False False False False False False False\n",
      " False False False False False False False False False False False False\n",
      " False False False False False False False False False False False False\n",
      " False False False False False False False False False False False False\n",
      " False False False False False False False False False False False False\n",
      " False False False False False False False False False False False False\n",
      " False False False False False False False False False False False False\n",
      " False False False False False False False False False False False False\n",
      " False False False False False]\n"
     ]
    }
   ],
   "source": [
    "days_arr = np.arange(1,366)\n",
    "condition_jan = days_arr <= 31 # 1월의 날수 만큼 불린 인덱스 생성\n",
    "print(condition_jan)"
   ]
  },
  {
   "cell_type": "code",
   "execution_count": 18,
   "id": "a18426cd",
   "metadata": {},
   "outputs": [
    {
     "name": "stdout",
     "output_type": "stream",
     "text": [
      "31\n",
      "[  0  41  15   0   0   3 122  97  58  43 213  15   0   0   0   0   0   0\n",
      "   0   0   0   5   0   0   0   0   0  89 216   0  23]\n"
     ]
    }
   ],
   "source": [
    "# 불린 인덱싱을 이용해서 1월의 강수량만 추출한다.\n",
    "rain_jan = rain_arr[condition_jan]\n",
    "print(len(rain_jan))\n",
    "print(rain_jan)"
   ]
  },
  {
   "cell_type": "code",
   "execution_count": null,
   "id": "c6f955a5",
   "metadata": {},
   "outputs": [],
   "source": []
  },
  {
   "cell_type": "markdown",
   "id": "e2631ce7",
   "metadata": {},
   "source": [
    "팬시 인덱싱  \n",
    "배열에 인덱스를 전달해 요소를 참조하는 방법"
   ]
  },
  {
   "cell_type": "code",
   "execution_count": 19,
   "id": "1489d4b8",
   "metadata": {},
   "outputs": [
    {
     "name": "stdout",
     "output_type": "stream",
     "text": [
      "type: <class 'numpy.ndarray'>\n",
      "shape: (4, 6), dimension: 2, dtype: int32\n",
      "numpy 배열에 저장된 데이터\n",
      " [[ 1  2  3  4  5  6]\n",
      " [ 7  8  9 10 11 12]\n",
      " [13 14 15 16 17 18]\n",
      " [19 20 21 22 23 24]]\n"
     ]
    }
   ],
   "source": [
    "a= np.arange(1,25).reshape(4,6)\n",
    "pprint(a)"
   ]
  },
  {
   "cell_type": "code",
   "execution_count": 20,
   "id": "da592941",
   "metadata": {},
   "outputs": [
    {
     "name": "stdout",
     "output_type": "stream",
     "text": [
      "1 8 15 22\n",
      "<class 'tuple'>\n",
      "(1, 8, 15, 22)\n",
      "<class 'list'>\n",
      "[1, 8, 15, 22]\n"
     ]
    }
   ],
   "source": [
    "print(a[0,0],a[1,1],a[2,2],a[3,3])\n",
    "a1 =a[0,0],a[1,1],a[2,2],a[3,3] # 튜플 => 수정 불가능\n",
    "print(type(a1))\n",
    "print(a1)\n",
    "a2 =[a[0,0],a[1,1],a[2,2],a[3,3]] # 리스트 => 수정 가능\n",
    "print(type(a2))\n",
    "print(a2)"
   ]
  },
  {
   "cell_type": "markdown",
   "id": "df73132a",
   "metadata": {},
   "source": [
    "배열 변환  \n",
    "배열을 변환하는 방법은 전치, 배열 shape변환, 배열 요소 추가, 배열 결합, 배열 분리 등이 있다."
   ]
  },
  {
   "cell_type": "code",
   "execution_count": 21,
   "id": "2b77ed04",
   "metadata": {},
   "outputs": [
    {
     "name": "stdout",
     "output_type": "stream",
     "text": [
      "type: <class 'numpy.ndarray'>\n",
      "shape: (2, 3), dimension: 2, dtype: int32\n",
      "numpy 배열에 저장된 데이터\n",
      " [[1 1 9]\n",
      " [3 7 8]]\n",
      "type: <class 'numpy.ndarray'>\n",
      "shape: (3, 2), dimension: 2, dtype: int32\n",
      "numpy 배열에 저장된 데이터\n",
      " [[1 3]\n",
      " [1 7]\n",
      " [9 8]]\n"
     ]
    }
   ],
   "source": [
    "# 전치는 행렬의 인덱스가 바뀌는 것이다.\n",
    "# 행과 열이 바뀌는 것.\n",
    "# 넘파이에서 배열을 전치하기 위해 배열이름.T 속성을 사용한다.\n",
    "a = np.random.randint(1,10,(2,3))\n",
    "pprint(a)\n",
    "pprint(a.T) # 이게 전치이다.\n",
    "# 소문자를 사용하면 에러가 발생한다."
   ]
  },
  {
   "cell_type": "code",
   "execution_count": 22,
   "id": "0f3f966a",
   "metadata": {},
   "outputs": [],
   "source": [
    "# 배열 형태 변경\n",
    "# 넘파이는 배열의 shape을 변경하는 reshape() 함수와 ravel() 함수를 제공한다.\n",
    "# reshape() 함수는 데이터 변경없이 지정된 shape으로 배열의 형태를 반환한다.\n",
    "# ravel() 함수는 배열의 shape을 무조건 1차원으로 변환한다."
   ]
  },
  {
   "cell_type": "code",
   "execution_count": 23,
   "id": "2c0790cc",
   "metadata": {},
   "outputs": [
    {
     "name": "stdout",
     "output_type": "stream",
     "text": [
      "type: <class 'numpy.ndarray'>\n",
      "shape: (3, 4), dimension: 2, dtype: int32\n",
      "numpy 배열에 저장된 데이터\n",
      " [[2 2 6 1]\n",
      " [7 4 3 5]\n",
      " [6 2 6 8]]\n",
      "type: <class 'numpy.ndarray'>\n",
      "shape: (2, 6), dimension: 2, dtype: int32\n",
      "numpy 배열에 저장된 데이터\n",
      " [[2 2 6 1 7 4]\n",
      " [3 5 6 2 6 8]]\n",
      "type: <class 'numpy.ndarray'>\n",
      "shape: (12,), dimension: 1, dtype: int32\n",
      "numpy 배열에 저장된 데이터\n",
      " [2 2 6 1 7 4 3 5 6 2 6 8]\n"
     ]
    }
   ],
   "source": [
    "a = np.random.randint(1,10,(3,4))\n",
    "pprint(a)\n",
    "pprint(a.reshape(2,6)) # reshape() 함수로 shape을 변경해서 변수에 저장시켜 사용한다. #reshape()만 하면 view니까\n",
    "pprint(a.ravel())\n"
   ]
  },
  {
   "cell_type": "code",
   "execution_count": 24,
   "id": "ab04d6ee",
   "metadata": {},
   "outputs": [
    {
     "name": "stdout",
     "output_type": "stream",
     "text": [
      "type: <class 'numpy.ndarray'>\n",
      "shape: (3, 4), dimension: 2, dtype: int32\n",
      "numpy 배열에 저장된 데이터\n",
      " [[9 8 9 5]\n",
      " [8 1 3 7]\n",
      " [3 2 1 2]]\n",
      "type: <class 'numpy.ndarray'>\n",
      "shape: (12,), dimension: 1, dtype: int32\n",
      "numpy 배열에 저장된 데이터\n",
      " [9 8 9 5 8 1 3 7 3 2 1 2]\n",
      "type: <class 'numpy.ndarray'>\n",
      "shape: (3, 4), dimension: 2, dtype: int32\n",
      "numpy 배열에 저장된 데이터\n",
      " [[9999    8    9    5]\n",
      " [   8    1    3    7]\n",
      " [   3    2    1    2]]\n"
     ]
    }
   ],
   "source": [
    "# ravel() 함수도 인덱싱, 슬라이싱의 경우처럼 원본 배열의 view를 보여준다.\n",
    "# 따라서 , ravel() 함수가 반환한 배열을 수정하면 원본배열의 내용이 같이 수정된다.\n",
    "# reshape() 또한 마찬가지.\n",
    "a = np.random.randint(1,10,(3,4))\n",
    "pprint(a)\n",
    "b=a.ravel()\n",
    "pprint(b)\n",
    "b[0]=9999\n",
    "pprint(a)"
   ]
  },
  {
   "cell_type": "code",
   "execution_count": 25,
   "id": "2a833b80",
   "metadata": {},
   "outputs": [],
   "source": [
    "# resize() 함수는 배열의 shape과 크기를 변경한다.\n",
    "# np.resize(배열이름, new_shape), 배열이름.resize(new_shape)\n",
    "# resize() 와 reshape() 함수는 shape을 변경한다는 부분에서는 동일하지만 reshape() 함수는 요소의 개수를 변경하면\n",
    "# 에러가 발생되는 반면에 resize() 함수는 shape을 변경하는 과정에서 요소의 개수를 늘이거나 줄일 수 있다.\n"
   ]
  },
  {
   "cell_type": "code",
   "execution_count": 26,
   "id": "5ef0c233",
   "metadata": {},
   "outputs": [
    {
     "name": "stdout",
     "output_type": "stream",
     "text": [
      "type: <class 'numpy.ndarray'>\n",
      "shape: (3, 4), dimension: 2, dtype: int32\n",
      "numpy 배열에 저장된 데이터\n",
      " [[8 3 5 5]\n",
      " [7 6 6 5]\n",
      " [8 1 7 8]]\n"
     ]
    },
    {
     "data": {
      "text/plain": [
       "array([[8, 3],\n",
       "       [5, 5],\n",
       "       [7, 6],\n",
       "       [6, 5],\n",
       "       [8, 1],\n",
       "       [7, 8]])"
      ]
     },
     "execution_count": 26,
     "metadata": {},
     "output_type": "execute_result"
    }
   ],
   "source": [
    "a = np.random.randint(1,10,(3,4))\n",
    "pprint(a)\n",
    "np.resize(a,(6,2)) # 얘도 view 따라서 변경한거 사용하려면 새 배열에 저장해야 된다."
   ]
  },
  {
   "cell_type": "code",
   "execution_count": 27,
   "id": "be9bfe19",
   "metadata": {},
   "outputs": [
    {
     "name": "stdout",
     "output_type": "stream",
     "text": [
      "type: <class 'numpy.ndarray'>\n",
      "shape: (2, 6), dimension: 2, dtype: int32\n",
      "numpy 배열에 저장된 데이터\n",
      " [[2 6 3 7 7 9]\n",
      " [8 5 5 2 6 8]]\n",
      "type: <class 'numpy.ndarray'>\n",
      "shape: (2, 10), dimension: 2, dtype: int32\n",
      "numpy 배열에 저장된 데이터\n",
      " [[2 6 3 7 7 9 8 5 5 2]\n",
      " [6 8 2 6 3 7 7 9 8 5]]\n",
      "type: <class 'numpy.ndarray'>\n",
      "shape: (2, 10), dimension: 2, dtype: int32\n",
      "numpy 배열에 저장된 데이터\n",
      " [[2 6 3 7 7 9 8 5 5 2]\n",
      " [6 8 0 0 0 0 0 0 0 0]]\n"
     ]
    }
   ],
   "source": [
    "# 요소의 개수가 변경되는 resize()\n",
    "a = np.random.randint(1,10,(2,6))\n",
    "pprint(a)\n",
    "\n",
    "# a.reshape(2,10) # reshape() 함수는 원본 요소의 개수와 reshape() 함수로 변경하는 요소의 개수가 다르면 에러가 발생한다.\n",
    "# np.resize(배열이름, new_shape) 형식은 실행 결과 원본 데이터가 변경되지 않는다. => view다.\n",
    "# 배열 요소의 개수가 12개 에서 20개로 늘어나고 늘어난 요소에 원본 내용이 반복해서 채워진다.\n",
    "b= np.resize(a,(2,10)) # 본래는 2,6 = 12 이지만 이번에는 2,10 = 20로 데이터 개수가 다르다.\n",
    "pprint(b) # 개수가 넘어가는 부분은 다시 처음부터 반복하면서 채운다.\n",
    "\n",
    "# 배열이름.resize(new_shape) 형식은 실행 결과 원본 데이터가 변경된다. 즉, 다른변수에 넣으면 안된다.\n",
    "# 배열 요소의 개수가 12개 에서 20개로 늘어나고 늘어난 요소에는 0이 채워진다.\n",
    "a.resize((2,10))\n",
    "pprint(a)"
   ]
  },
  {
   "cell_type": "code",
   "execution_count": 28,
   "id": "8d7301ee",
   "metadata": {},
   "outputs": [
    {
     "name": "stdout",
     "output_type": "stream",
     "text": [
      "type: <class 'numpy.ndarray'>\n",
      "shape: (2, 6), dimension: 2, dtype: int32\n",
      "numpy 배열에 저장된 데이터\n",
      " [[3 1 6 6 7 5]\n",
      " [4 5 3 9 3 1]]\n",
      "type: <class 'numpy.ndarray'>\n",
      "shape: (2, 4), dimension: 2, dtype: int32\n",
      "numpy 배열에 저장된 데이터\n",
      " [[3 1 6 6]\n",
      " [7 5 4 5]]\n",
      "type: <class 'numpy.ndarray'>\n",
      "shape: (2, 4), dimension: 2, dtype: int32\n",
      "numpy 배열에 저장된 데이터\n",
      " [[3 1 6 6]\n",
      " [7 5 4 5]]\n"
     ]
    }
   ],
   "source": [
    "a = np.random.randint(1,10,(2,6))\n",
    "pprint(a)\n",
    "\n",
    "b= np.resize(a,(2,4)) # 배열 요소의 개수가 12개에서 8개로 줄어들고 줄어든 요소의 데이터는 분실된다.\n",
    "pprint(b)\n",
    "a.resize(2,4) # 이번에는 두개가 똑같다.\n",
    "pprint(a)"
   ]
  },
  {
   "cell_type": "code",
   "execution_count": 29,
   "id": "ed2994f4",
   "metadata": {},
   "outputs": [],
   "source": [
    "# append() 함수는 배열 끝에 데이터(배열)를 추가한다. axis로 데이터가 추가되는 방향을 지정할 수 있다. axis 안쓰면 None\n",
    "# np.append(배열이름,추가할데이터,axis)"
   ]
  },
  {
   "cell_type": "code",
   "execution_count": 30,
   "id": "16070734",
   "metadata": {},
   "outputs": [
    {
     "name": "stdout",
     "output_type": "stream",
     "text": [
      "type: <class 'numpy.ndarray'>\n",
      "shape: (3, 3), dimension: 2, dtype: int32\n",
      "numpy 배열에 저장된 데이터\n",
      " [[7 9 4]\n",
      " [9 2 1]\n",
      " [3 9 2]]\n",
      "type: <class 'numpy.ndarray'>\n",
      "shape: (3, 3), dimension: 2, dtype: int32\n",
      "numpy 배열에 저장된 데이터\n",
      " [[5 9 5]\n",
      " [2 5 9]\n",
      " [1 9 9]]\n"
     ]
    }
   ],
   "source": [
    "a = np.random.randint(1,10,(3,3))\n",
    "pprint(a)\n",
    "b = np.random.randint(1,10,(3,3))\n",
    "pprint(b)"
   ]
  },
  {
   "cell_type": "code",
   "execution_count": 31,
   "id": "a6681014",
   "metadata": {},
   "outputs": [
    {
     "name": "stdout",
     "output_type": "stream",
     "text": [
      "type: <class 'numpy.ndarray'>\n",
      "shape: (18,), dimension: 1, dtype: int32\n",
      "numpy 배열에 저장된 데이터\n",
      " [7 9 4 9 2 1 3 9 2 5 9 5 2 5 9 1 9 9]\n"
     ]
    }
   ],
   "source": [
    "# axis를 지정하지 않을 경우(생략하는 경우와 똑같음)\n",
    "# axis를 지정하지 않으면 배열은 1차원 배열로 변환되서 결합된다.\n",
    "result = np.append(a, b, axis=None)\n",
    "pprint(result)"
   ]
  },
  {
   "cell_type": "code",
   "execution_count": 32,
   "id": "62384351",
   "metadata": {},
   "outputs": [
    {
     "name": "stdout",
     "output_type": "stream",
     "text": [
      "type: <class 'numpy.ndarray'>\n",
      "shape: (6, 3), dimension: 2, dtype: int32\n",
      "numpy 배열에 저장된 데이터\n",
      " [[7 9 4]\n",
      " [9 2 1]\n",
      " [3 9 2]\n",
      " [5 9 5]\n",
      " [2 5 9]\n",
      " [1 9 9]]\n",
      "(6, 3)\n",
      "6\n",
      "3\n"
     ]
    }
   ],
   "source": [
    "# axis = 0으로 지정할 경우\n",
    "# 배열의 아래쪽에 배열이 추가된다. => 열 방향으로 추가\n",
    "# 행의 개수는 달라도 상관 없지만 열의 개수는 반드시 같아야 한다!!\n",
    "result = np.append(a,b,axis=0)\n",
    "pprint(result)\n",
    "\n",
    "print(result.shape) # 2차원 배열에서 shape은 행과 열을 의미한다.\n",
    "print(result.shape[0]) # 2차원 배열에서 shape은 행을 의미한다.\n",
    "print(result.shape[1]) # 2차원 배열에서 shape은 열을 의미한다.\n",
    "\n",
    "# axis=0으로 설정시 shape[0]은 서로 달라도 상관없지만 shape[1]은 반드시 같아야 오류가 발생 되지 않는다."
   ]
  },
  {
   "cell_type": "code",
   "execution_count": 33,
   "id": "f7be0ba5",
   "metadata": {},
   "outputs": [
    {
     "name": "stdout",
     "output_type": "stream",
     "text": [
      "type: <class 'numpy.ndarray'>\n",
      "shape: (3, 6), dimension: 2, dtype: int32\n",
      "numpy 배열에 저장된 데이터\n",
      " [[7 9 4 5 9 5]\n",
      " [9 2 1 2 5 9]\n",
      " [3 9 2 1 9 9]]\n",
      "(3, 6)\n",
      "3\n",
      "6\n"
     ]
    }
   ],
   "source": [
    "# axis = 1으로 지정할 경우\n",
    "# 배열의 오른쪽에 배열이 추가된다. => 행 방향으로 추가\n",
    "# 열의 개수는 달라도 상관 없지만 행의 개수는 반드시 같아야 한다!!\n",
    "result = np.append(a,b,axis=1)\n",
    "pprint(result)\n",
    "\n",
    "print(result.shape) # 2차원 배열에서 shape은 행과 열을 의미한다.\n",
    "print(result.shape[0]) # 2차원 배열에서 shape은 행을 의미한다.\n",
    "print(result.shape[1]) # 2차원 배열에서 shape은 열을 의미한다."
   ]
  },
  {
   "cell_type": "code",
   "execution_count": 34,
   "id": "70a59569",
   "metadata": {},
   "outputs": [
    {
     "name": "stdout",
     "output_type": "stream",
     "text": [
      "type: <class 'numpy.ndarray'>\n",
      "shape: (3, 3), dimension: 2, dtype: int32\n",
      "numpy 배열에 저장된 데이터\n",
      " [[1 2 3]\n",
      " [4 5 6]\n",
      " [7 8 9]]\n"
     ]
    }
   ],
   "source": [
    "# insert() 함수는 지정된 index 위치에 데이터를 삽입한다. axis로 데이터가 삽입되는 방향을 지정할 수 있다.\n",
    "# np.insert(배열이름, index, 추가할 데이터, axis)\n",
    "a = np.arange(1,10).reshape(3,3)\n",
    "pprint(a)"
   ]
  },
  {
   "cell_type": "code",
   "execution_count": 35,
   "id": "f1d98b49",
   "metadata": {},
   "outputs": [
    {
     "name": "stdout",
     "output_type": "stream",
     "text": [
      "type: <class 'numpy.ndarray'>\n",
      "shape: (10,), dimension: 1, dtype: int32\n",
      "numpy 배열에 저장된 데이터\n",
      " [    1 99999     2     3     4     5     6     7     8     9]\n"
     ]
    }
   ],
   "source": [
    "# axis 지정하지 않으면 1차원으로 바뀌어서 설정한 인덱스에 데이터를 삽입하고 나머지는 뒤로 밀린다\n",
    "#pprint(np.insert(a,1,99999,axis=None))\n",
    "pprint(np.insert(a,1,99999))"
   ]
  },
  {
   "cell_type": "code",
   "execution_count": 36,
   "id": "fa0a60e0",
   "metadata": {},
   "outputs": [
    {
     "name": "stdout",
     "output_type": "stream",
     "text": [
      "type: <class 'numpy.ndarray'>\n",
      "shape: (4, 3), dimension: 2, dtype: int32\n",
      "numpy 배열에 저장된 데이터\n",
      " [[    1     2     3]\n",
      " [99999 99999 99999]\n",
      " [    4     5     6]\n",
      " [    7     8     9]]\n"
     ]
    }
   ],
   "source": [
    "# axis=0으로 지정하면 열 방향으로 index가 1인 행에 데이터를 삽입한다.\n",
    "pprint(np.insert(a,1,99999,axis=0)) # 열방향 인덱스=> 방향이 인덱스가 되는거다. 즉 행=열 방향이니까 세로 방향으로 삽입"
   ]
  },
  {
   "cell_type": "code",
   "execution_count": 37,
   "id": "bc2d62c2",
   "metadata": {},
   "outputs": [
    {
     "name": "stdout",
     "output_type": "stream",
     "text": [
      "type: <class 'numpy.ndarray'>\n",
      "shape: (3, 4), dimension: 2, dtype: int32\n",
      "numpy 배열에 저장된 데이터\n",
      " [[    1 99999     2     3]\n",
      " [    4 99999     5     6]\n",
      " [    7 99999     8     9]]\n"
     ]
    }
   ],
   "source": [
    "# axis=1으로 지정하면 행 방향으로 index가 1인 열에 데이터를 삽입한다.\n",
    "pprint(np.insert(a,1,99999,axis=1)) # 행방향 인덱스 => 방향이 인덱스가 되는거다. 즉 행 방향이니까 가로 방향으로 삽입"
   ]
  },
  {
   "cell_type": "code",
   "execution_count": 38,
   "id": "e3fe3b6f",
   "metadata": {},
   "outputs": [
    {
     "name": "stdout",
     "output_type": "stream",
     "text": [
      "type: <class 'numpy.ndarray'>\n",
      "shape: (3, 3), dimension: 2, dtype: int32\n",
      "numpy 배열에 저장된 데이터\n",
      " [[1 2 3]\n",
      " [4 5 6]\n",
      " [7 8 9]]\n"
     ]
    }
   ],
   "source": [
    "# delete() 함수는 지정된 index의 데이터를 삭제한다. axis로 데이터가 삭제되는 방향을 지정할 수 있다.\n",
    "# delete(배열이름, index, axis)\n",
    "a = np.arange(1,10).reshape(3,3)\n",
    "pprint(a)"
   ]
  },
  {
   "cell_type": "code",
   "execution_count": 39,
   "id": "13792df8",
   "metadata": {},
   "outputs": [
    {
     "name": "stdout",
     "output_type": "stream",
     "text": [
      "[1 3 4 5 6 7 8 9]\n"
     ]
    }
   ],
   "source": [
    "# axis를 지정하지 않았으므로 1차원 배열로 변환하고 1번째 index의 데이터를 삭제한다.\n",
    "# print(np.delete(a,1, axis=None))\n",
    "print(np.delete(a,1))"
   ]
  },
  {
   "cell_type": "code",
   "execution_count": 40,
   "id": "1f301def",
   "metadata": {},
   "outputs": [
    {
     "name": "stdout",
     "output_type": "stream",
     "text": [
      "type: <class 'numpy.ndarray'>\n",
      "shape: (2, 3), dimension: 2, dtype: int32\n",
      "numpy 배열에 저장된 데이터\n",
      " [[1 2 3]\n",
      " [7 8 9]]\n"
     ]
    }
   ],
   "source": [
    "pprint(np.delete(a,1,axis=0)) # 열방향 인덱스 => 방향이 인덱스가 되는거다. 즉 열 방향이니까 위에서 아래 방향에서 1번삭제 "
   ]
  },
  {
   "cell_type": "code",
   "execution_count": 41,
   "id": "bce72fe9",
   "metadata": {},
   "outputs": [
    {
     "name": "stdout",
     "output_type": "stream",
     "text": [
      "type: <class 'numpy.ndarray'>\n",
      "shape: (3, 2), dimension: 2, dtype: int32\n",
      "numpy 배열에 저장된 데이터\n",
      " [[1 3]\n",
      " [4 6]\n",
      " [7 9]]\n"
     ]
    }
   ],
   "source": [
    "pprint(np.delete(a,1,axis=1)) # 행방향 인덱스 => 방향이 인덱스가 되는거다. 즉 행 방향이니까 왼쪽에서 오른쪽 방향에서 1번삭제"
   ]
  },
  {
   "cell_type": "markdown",
   "id": "63bb943b",
   "metadata": {},
   "source": [
    "배열 분리  \n",
    "numpy는 배열을 수직 방향으로 분할하는 np.vsplit() 함수와 수평 방향으로 분할하는 np.hsplit() 함수를 제공한다."
   ]
  },
  {
   "cell_type": "code",
   "execution_count": 43,
   "id": "84e26e1a",
   "metadata": {},
   "outputs": [
    {
     "name": "stdout",
     "output_type": "stream",
     "text": [
      "type: <class 'numpy.ndarray'>\n",
      "shape: (4, 6), dimension: 2, dtype: int32\n",
      "numpy 배열에 저장된 데이터\n",
      " [[ 1  2  3  4  5  6]\n",
      " [ 7  8  9 10 11 12]\n",
      " [13 14 15 16 17 18]\n",
      " [19 20 21 22 23 24]]\n"
     ]
    }
   ],
   "source": [
    "# np.hsplit() 함수로 배열을 수평 방향으로 분할한다.\n",
    "# np.hsplit(배열이름, 분할할 배열의 개수)\n",
    "a= np.arange(1,25).reshape(4,6)\n",
    "pprint(a)"
   ]
  },
  {
   "cell_type": "code",
   "execution_count": 49,
   "id": "0babd0e6",
   "metadata": {},
   "outputs": [
    {
     "name": "stdout",
     "output_type": "stream",
     "text": [
      "<class 'list'>\n",
      "[array([[ 1,  2,  3],\n",
      "       [ 7,  8,  9],\n",
      "       [13, 14, 15],\n",
      "       [19, 20, 21]]), array([[ 4,  5,  6],\n",
      "       [10, 11, 12],\n",
      "       [16, 17, 18],\n",
      "       [22, 23, 24]])]\n",
      "<class 'numpy.ndarray'>\n",
      "[[ 1  2  3]\n",
      " [ 7  8  9]\n",
      " [13 14 15]\n",
      " [19 20 21]]\n"
     ]
    }
   ],
   "source": [
    "result=np.hsplit(a,2) # hsplit() 함수의 실행결과는 파이썬 list이다.\n",
    "print(type(result)) #--> 이렇게하면 list로 type이 바뀐다. <class 'list'>\n",
    "print(result)\n",
    "print(type(result[0])) #<class 'numpy.ndarray'> 즉 하나의 배열안에 split된 numpy배열 2개가 들어가진것.\n",
    "print(result[0])"
   ]
  },
  {
   "cell_type": "code",
   "execution_count": 52,
   "id": "02c183eb",
   "metadata": {},
   "outputs": [
    {
     "name": "stdout",
     "output_type": "stream",
     "text": [
      "<class 'list'>\n",
      "[array([[ 1,  2],\n",
      "       [ 7,  8],\n",
      "       [13, 14],\n",
      "       [19, 20]]), array([[ 3,  4],\n",
      "       [ 9, 10],\n",
      "       [15, 16],\n",
      "       [21, 22]]), array([[ 5,  6],\n",
      "       [11, 12],\n",
      "       [17, 18],\n",
      "       [23, 24]])]\n",
      "<class 'numpy.ndarray'>\n",
      "[[ 1  2]\n",
      " [ 7  8]\n",
      " [13 14]\n",
      " [19 20]]\n"
     ]
    }
   ],
   "source": [
    "result=np.hsplit(a,3)  # a의 g행이\n",
    "print(type(result))\n",
    "print(result)\n",
    "print(type(result[0]))\n",
    "print(result[0])"
   ]
  },
  {
   "cell_type": "code",
   "execution_count": 53,
   "id": "7f85731f",
   "metadata": {},
   "outputs": [
    {
     "name": "stdout",
     "output_type": "stream",
     "text": [
      "<class 'list'>\n",
      "[array([[ 1],\n",
      "       [ 7],\n",
      "       [13],\n",
      "       [19]]), array([[ 2],\n",
      "       [ 8],\n",
      "       [14],\n",
      "       [20]]), array([[ 3],\n",
      "       [ 9],\n",
      "       [15],\n",
      "       [21]]), array([[ 4,  5,  6],\n",
      "       [10, 11, 12],\n",
      "       [16, 17, 18],\n",
      "       [22, 23, 24]])]\n",
      "<class 'numpy.ndarray'>\n",
      "[[ 1]\n",
      " [ 7]\n",
      " [13]\n",
      " [19]]\n"
     ]
    }
   ],
   "source": [
    "result=np.hsplit(a,[1,2,3]) \n",
    "print(type(result)) \n",
    "print(result)\n",
    "print(type(result[0])) \n",
    "print(result[0])"
   ]
  },
  {
   "cell_type": "code",
   "execution_count": null,
   "id": "a99ae7ad",
   "metadata": {},
   "outputs": [],
   "source": [
    "# np.vsplit() 함수로 배열을 수평 방향으로 분할한다.\n",
    "# np.vsplit(배열이름, 분할할 배열의 개수)\n",
    "a= np.arange(1,25).reshape(4,6)\n",
    "pprint(a)"
   ]
  },
  {
   "cell_type": "code",
   "execution_count": 54,
   "id": "e78b094c",
   "metadata": {},
   "outputs": [
    {
     "name": "stdout",
     "output_type": "stream",
     "text": [
      "<class 'list'>\n",
      "[array([[ 1,  2,  3,  4,  5,  6],\n",
      "       [ 7,  8,  9, 10, 11, 12]]), array([[13, 14, 15, 16, 17, 18],\n",
      "       [19, 20, 21, 22, 23, 24]])]\n",
      "<class 'numpy.ndarray'>\n",
      "[[ 1  2  3  4  5  6]\n",
      " [ 7  8  9 10 11 12]]\n"
     ]
    }
   ],
   "source": [
    "result=np.vsplit(a,2) \n",
    "print(type(result)) \n",
    "print(result)\n",
    "print(type(result[0])) \n",
    "print(result[0])"
   ]
  },
  {
   "cell_type": "code",
   "execution_count": null,
   "id": "3eea65df",
   "metadata": {},
   "outputs": [],
   "source": []
  },
  {
   "cell_type": "code",
   "execution_count": null,
   "id": "2399bbcd",
   "metadata": {},
   "outputs": [],
   "source": []
  },
  {
   "cell_type": "code",
   "execution_count": null,
   "id": "07414100",
   "metadata": {},
   "outputs": [],
   "source": []
  },
  {
   "cell_type": "code",
   "execution_count": null,
   "id": "0d14fa54",
   "metadata": {},
   "outputs": [],
   "source": []
  },
  {
   "cell_type": "code",
   "execution_count": null,
   "id": "2b8c4fdf",
   "metadata": {},
   "outputs": [],
   "source": []
  },
  {
   "cell_type": "code",
   "execution_count": null,
   "id": "8f4185e5",
   "metadata": {},
   "outputs": [],
   "source": []
  },
  {
   "cell_type": "code",
   "execution_count": null,
   "id": "d2235523",
   "metadata": {},
   "outputs": [],
   "source": []
  },
  {
   "cell_type": "code",
   "execution_count": null,
   "id": "3193b847",
   "metadata": {},
   "outputs": [],
   "source": []
  },
  {
   "cell_type": "code",
   "execution_count": null,
   "id": "7513a4c7",
   "metadata": {},
   "outputs": [],
   "source": []
  },
  {
   "cell_type": "code",
   "execution_count": null,
   "id": "624593cd",
   "metadata": {},
   "outputs": [],
   "source": []
  },
  {
   "cell_type": "code",
   "execution_count": null,
   "id": "b086dff6",
   "metadata": {},
   "outputs": [],
   "source": []
  }
 ],
 "metadata": {
  "kernelspec": {
   "display_name": "Python 3",
   "language": "python",
   "name": "python3"
  },
  "language_info": {
   "codemirror_mode": {
    "name": "ipython",
    "version": 3
   },
   "file_extension": ".py",
   "mimetype": "text/x-python",
   "name": "python",
   "nbconvert_exporter": "python",
   "pygments_lexer": "ipython3",
   "version": "3.6.8"
  }
 },
 "nbformat": 4,
 "nbformat_minor": 5
}
